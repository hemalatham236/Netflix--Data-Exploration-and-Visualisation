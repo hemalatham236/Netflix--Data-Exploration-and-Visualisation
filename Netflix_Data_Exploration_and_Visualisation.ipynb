{
 "cells": [
  {
   "cell_type": "code",
   "execution_count": 1,
   "id": "4aac72c3",
   "metadata": {},
   "outputs": [],
   "source": [
    "import numpy as np\n",
    "import pandas as pd\n",
    "import matplotlib.pyplot as plt\n",
    "import seaborn as sns"
   ]
  },
  {
   "cell_type": "code",
   "execution_count": 128,
   "id": "1a4f204d",
   "metadata": {},
   "outputs": [],
   "source": [
    "import warnings\n",
    "warnings.filterwarnings(\"ignore\")\n"
   ]
  },
  {
   "cell_type": "code",
   "execution_count": 129,
   "id": "acaa874c",
   "metadata": {},
   "outputs": [],
   "source": [
    "df = pd.read_csv(\"netflix.csv\")"
   ]
  },
  {
   "cell_type": "code",
   "execution_count": 130,
   "id": "cba54a90",
   "metadata": {},
   "outputs": [
    {
     "data": {
      "text/html": [
       "<div>\n",
       "<style scoped>\n",
       "    .dataframe tbody tr th:only-of-type {\n",
       "        vertical-align: middle;\n",
       "    }\n",
       "\n",
       "    .dataframe tbody tr th {\n",
       "        vertical-align: top;\n",
       "    }\n",
       "\n",
       "    .dataframe thead th {\n",
       "        text-align: right;\n",
       "    }\n",
       "</style>\n",
       "<table border=\"1\" class=\"dataframe\">\n",
       "  <thead>\n",
       "    <tr style=\"text-align: right;\">\n",
       "      <th></th>\n",
       "      <th>show_id</th>\n",
       "      <th>type</th>\n",
       "      <th>title</th>\n",
       "      <th>director</th>\n",
       "      <th>cast</th>\n",
       "      <th>country</th>\n",
       "      <th>date_added</th>\n",
       "      <th>release_year</th>\n",
       "      <th>rating</th>\n",
       "      <th>duration</th>\n",
       "      <th>listed_in</th>\n",
       "      <th>description</th>\n",
       "    </tr>\n",
       "  </thead>\n",
       "  <tbody>\n",
       "    <tr>\n",
       "      <th>0</th>\n",
       "      <td>s1</td>\n",
       "      <td>Movie</td>\n",
       "      <td>Dick Johnson Is Dead</td>\n",
       "      <td>Kirsten Johnson</td>\n",
       "      <td>NaN</td>\n",
       "      <td>United States</td>\n",
       "      <td>September 25, 2021</td>\n",
       "      <td>2020</td>\n",
       "      <td>PG-13</td>\n",
       "      <td>90 min</td>\n",
       "      <td>Documentaries</td>\n",
       "      <td>As her father nears the end of his life, filmm...</td>\n",
       "    </tr>\n",
       "    <tr>\n",
       "      <th>1</th>\n",
       "      <td>s2</td>\n",
       "      <td>TV Show</td>\n",
       "      <td>Blood &amp; Water</td>\n",
       "      <td>NaN</td>\n",
       "      <td>Ama Qamata, Khosi Ngema, Gail Mabalane, Thaban...</td>\n",
       "      <td>South Africa</td>\n",
       "      <td>September 24, 2021</td>\n",
       "      <td>2021</td>\n",
       "      <td>TV-MA</td>\n",
       "      <td>2 Seasons</td>\n",
       "      <td>International TV Shows, TV Dramas, TV Mysteries</td>\n",
       "      <td>After crossing paths at a party, a Cape Town t...</td>\n",
       "    </tr>\n",
       "    <tr>\n",
       "      <th>2</th>\n",
       "      <td>s3</td>\n",
       "      <td>TV Show</td>\n",
       "      <td>Ganglands</td>\n",
       "      <td>Julien Leclercq</td>\n",
       "      <td>Sami Bouajila, Tracy Gotoas, Samuel Jouy, Nabi...</td>\n",
       "      <td>NaN</td>\n",
       "      <td>September 24, 2021</td>\n",
       "      <td>2021</td>\n",
       "      <td>TV-MA</td>\n",
       "      <td>1 Season</td>\n",
       "      <td>Crime TV Shows, International TV Shows, TV Act...</td>\n",
       "      <td>To protect his family from a powerful drug lor...</td>\n",
       "    </tr>\n",
       "  </tbody>\n",
       "</table>\n",
       "</div>"
      ],
      "text/plain": [
       "  show_id     type                 title         director  \\\n",
       "0      s1    Movie  Dick Johnson Is Dead  Kirsten Johnson   \n",
       "1      s2  TV Show         Blood & Water              NaN   \n",
       "2      s3  TV Show             Ganglands  Julien Leclercq   \n",
       "\n",
       "                                                cast        country  \\\n",
       "0                                                NaN  United States   \n",
       "1  Ama Qamata, Khosi Ngema, Gail Mabalane, Thaban...   South Africa   \n",
       "2  Sami Bouajila, Tracy Gotoas, Samuel Jouy, Nabi...            NaN   \n",
       "\n",
       "           date_added  release_year rating   duration  \\\n",
       "0  September 25, 2021          2020  PG-13     90 min   \n",
       "1  September 24, 2021          2021  TV-MA  2 Seasons   \n",
       "2  September 24, 2021          2021  TV-MA   1 Season   \n",
       "\n",
       "                                           listed_in  \\\n",
       "0                                      Documentaries   \n",
       "1    International TV Shows, TV Dramas, TV Mysteries   \n",
       "2  Crime TV Shows, International TV Shows, TV Act...   \n",
       "\n",
       "                                         description  \n",
       "0  As her father nears the end of his life, filmm...  \n",
       "1  After crossing paths at a party, a Cape Town t...  \n",
       "2  To protect his family from a powerful drug lor...  "
      ]
     },
     "execution_count": 130,
     "metadata": {},
     "output_type": "execute_result"
    }
   ],
   "source": [
    "df.head(3)"
   ]
  },
  {
   "cell_type": "markdown",
   "id": "d2aedcca",
   "metadata": {},
   "source": [
    "### <font color='purple'>1. Defining Problem Statement and Analysing basic metrics</font>"
   ]
  },
  {
   "cell_type": "markdown",
   "id": "48d1f7a8",
   "metadata": {},
   "source": [
    "1. **Problem Statement**\n",
    "  - Analyze the netflix dataset to provide data-driven recommendation on the type of content (movies or TV shows)to produce.\n",
    "  - Explore how Netflix can expand and grow its business in different countries.\n",
    "2. **Basic metric Analysis**\n",
    "  - a. Import the dataset and load it into a suitable data structure for analysis.\n",
    "    \n",
    "  - b. Check the data for any missing values,duplicates and handle them .\n",
    "    \n",
    "  - c. Analyse the overall distribution of content types(movies,tv.shows) to see it netflix has a preference.\n",
    "    \n",
    "  - d. Calculate the total number of movies and tv shows available on Netflix.\n",
    "    \n",
    "  - e. Analyze the tv ratings of the content to see if there is a particular rating that performs better.\n",
    "    \n",
    "  - f. Determine the average duration (in minutes) of movies and the average number of seasons for TV shows.\n",
    "3. **Content by country**:\n",
    "  - a. Analyze which countries produce the most content for Netflix.\n",
    "    \n",
    "  - b. Analyze which types of contents are most popular in specific countries.\n",
    "    \n",
    "4. **Launch time or date for tv shows and movies**:\n",
    "  - a. Examine the release dates and time of tv shows to determine if there is a season or time of the year that tends to perform better.\n",
    "    \n",
    "5. **Actor and Director Analysis**:\n",
    "  - a. Identify most polularly appearing actors and directors in Netflix content.\n",
    "    \n",
    "  - b. Determine the specific actors and directors are associated with higher ratings.\n",
    "6. **Focus on TV Shows or Movies**:\n",
    "  - a. Analyze which types of contents (TV Shows or Movies) is more producing in recent years.\n",
    "    \n",
    "7. **Growth Strategies**:\n",
    "  - a. Provide recommendation for Netflix on expanding its business in different countries based on content prefrences ,regional trends and potential market opportunities.\n",
    "    \n",
    "    \n",
    "    "
   ]
  },
  {
   "cell_type": "markdown",
   "id": "3fcc1312",
   "metadata": {},
   "source": [
    "### <font color='purple'>2. Observations on the shape of data, data types of all the attributes, conversion of categorical attributes to 'category' (If required), missing value detection, statistical summary </font>"
   ]
  },
  {
   "cell_type": "code",
   "execution_count": 131,
   "id": "0e2b536e",
   "metadata": {},
   "outputs": [
    {
     "name": "stdout",
     "output_type": "stream",
     "text": [
      "(8807, 12)\n",
      "Dataset contains 8807 rows and 12 columns\n"
     ]
    }
   ],
   "source": [
    "print(df.shape)\n",
    "print(f\"Dataset contains {df.shape[0]} rows and {df.shape[1]} columns\")"
   ]
  },
  {
   "cell_type": "code",
   "execution_count": 132,
   "id": "13b05003",
   "metadata": {},
   "outputs": [
    {
     "name": "stdout",
     "output_type": "stream",
     "text": [
      "Data types of Attribute: \n",
      "show_id         object\n",
      "type            object\n",
      "title           object\n",
      "director        object\n",
      "cast            object\n",
      "country         object\n",
      "date_added      object\n",
      "release_year     int64\n",
      "rating          object\n",
      "duration        object\n",
      "listed_in       object\n",
      "description     object\n",
      "dtype: object\n"
     ]
    }
   ],
   "source": [
    "print(\"Data types of Attribute: \")\n",
    "\n",
    "print(df.dtypes)"
   ]
  },
  {
   "cell_type": "code",
   "execution_count": 133,
   "id": "33e4f7e1",
   "metadata": {},
   "outputs": [
    {
     "data": {
      "text/plain": [
       "Index(['show_id', 'type', 'title', 'director', 'cast', 'country', 'date_added',\n",
       "       'release_year', 'rating', 'duration', 'listed_in', 'description'],\n",
       "      dtype='object')"
      ]
     },
     "execution_count": 133,
     "metadata": {},
     "output_type": "execute_result"
    }
   ],
   "source": [
    "df.columns"
   ]
  },
  {
   "cell_type": "code",
   "execution_count": 134,
   "id": "616e6920",
   "metadata": {},
   "outputs": [
    {
     "data": {
      "text/plain": [
       "show_id            0\n",
       "type               0\n",
       "title              0\n",
       "director        2634\n",
       "cast             825\n",
       "country          831\n",
       "date_added        10\n",
       "release_year       0\n",
       "rating             4\n",
       "duration           3\n",
       "listed_in          0\n",
       "description        0\n",
       "dtype: int64"
      ]
     },
     "execution_count": 134,
     "metadata": {},
     "output_type": "execute_result"
    }
   ],
   "source": [
    "df.isnull().sum()"
   ]
  },
  {
   "cell_type": "markdown",
   "id": "f1be2265",
   "metadata": {},
   "source": [
    " **Statistical Summery**"
   ]
  },
  {
   "cell_type": "code",
   "execution_count": 135,
   "id": "9434756a",
   "metadata": {},
   "outputs": [
    {
     "data": {
      "text/html": [
       "<div>\n",
       "<style scoped>\n",
       "    .dataframe tbody tr th:only-of-type {\n",
       "        vertical-align: middle;\n",
       "    }\n",
       "\n",
       "    .dataframe tbody tr th {\n",
       "        vertical-align: top;\n",
       "    }\n",
       "\n",
       "    .dataframe thead th {\n",
       "        text-align: right;\n",
       "    }\n",
       "</style>\n",
       "<table border=\"1\" class=\"dataframe\">\n",
       "  <thead>\n",
       "    <tr style=\"text-align: right;\">\n",
       "      <th></th>\n",
       "      <th>release_year</th>\n",
       "    </tr>\n",
       "  </thead>\n",
       "  <tbody>\n",
       "    <tr>\n",
       "      <th>count</th>\n",
       "      <td>8807.000000</td>\n",
       "    </tr>\n",
       "    <tr>\n",
       "      <th>mean</th>\n",
       "      <td>2014.180198</td>\n",
       "    </tr>\n",
       "    <tr>\n",
       "      <th>std</th>\n",
       "      <td>8.819312</td>\n",
       "    </tr>\n",
       "    <tr>\n",
       "      <th>min</th>\n",
       "      <td>1925.000000</td>\n",
       "    </tr>\n",
       "    <tr>\n",
       "      <th>25%</th>\n",
       "      <td>2013.000000</td>\n",
       "    </tr>\n",
       "    <tr>\n",
       "      <th>50%</th>\n",
       "      <td>2017.000000</td>\n",
       "    </tr>\n",
       "    <tr>\n",
       "      <th>75%</th>\n",
       "      <td>2019.000000</td>\n",
       "    </tr>\n",
       "    <tr>\n",
       "      <th>max</th>\n",
       "      <td>2021.000000</td>\n",
       "    </tr>\n",
       "  </tbody>\n",
       "</table>\n",
       "</div>"
      ],
      "text/plain": [
       "       release_year\n",
       "count   8807.000000\n",
       "mean    2014.180198\n",
       "std        8.819312\n",
       "min     1925.000000\n",
       "25%     2013.000000\n",
       "50%     2017.000000\n",
       "75%     2019.000000\n",
       "max     2021.000000"
      ]
     },
     "execution_count": 135,
     "metadata": {},
     "output_type": "execute_result"
    }
   ],
   "source": [
    "df.describe()"
   ]
  },
  {
   "cell_type": "code",
   "execution_count": 136,
   "id": "1dcd030f",
   "metadata": {},
   "outputs": [
    {
     "data": {
      "text/html": [
       "<div>\n",
       "<style scoped>\n",
       "    .dataframe tbody tr th:only-of-type {\n",
       "        vertical-align: middle;\n",
       "    }\n",
       "\n",
       "    .dataframe tbody tr th {\n",
       "        vertical-align: top;\n",
       "    }\n",
       "\n",
       "    .dataframe thead th {\n",
       "        text-align: right;\n",
       "    }\n",
       "</style>\n",
       "<table border=\"1\" class=\"dataframe\">\n",
       "  <thead>\n",
       "    <tr style=\"text-align: right;\">\n",
       "      <th></th>\n",
       "      <th>show_id</th>\n",
       "      <th>type</th>\n",
       "      <th>title</th>\n",
       "      <th>director</th>\n",
       "      <th>cast</th>\n",
       "      <th>country</th>\n",
       "      <th>date_added</th>\n",
       "      <th>rating</th>\n",
       "      <th>duration</th>\n",
       "      <th>listed_in</th>\n",
       "      <th>description</th>\n",
       "    </tr>\n",
       "  </thead>\n",
       "  <tbody>\n",
       "    <tr>\n",
       "      <th>count</th>\n",
       "      <td>8807</td>\n",
       "      <td>8807</td>\n",
       "      <td>8807</td>\n",
       "      <td>6173</td>\n",
       "      <td>7982</td>\n",
       "      <td>7976</td>\n",
       "      <td>8797</td>\n",
       "      <td>8803</td>\n",
       "      <td>8804</td>\n",
       "      <td>8807</td>\n",
       "      <td>8807</td>\n",
       "    </tr>\n",
       "    <tr>\n",
       "      <th>unique</th>\n",
       "      <td>8807</td>\n",
       "      <td>2</td>\n",
       "      <td>8807</td>\n",
       "      <td>4528</td>\n",
       "      <td>7692</td>\n",
       "      <td>748</td>\n",
       "      <td>1767</td>\n",
       "      <td>17</td>\n",
       "      <td>220</td>\n",
       "      <td>514</td>\n",
       "      <td>8775</td>\n",
       "    </tr>\n",
       "    <tr>\n",
       "      <th>top</th>\n",
       "      <td>s1</td>\n",
       "      <td>Movie</td>\n",
       "      <td>Dick Johnson Is Dead</td>\n",
       "      <td>Rajiv Chilaka</td>\n",
       "      <td>David Attenborough</td>\n",
       "      <td>United States</td>\n",
       "      <td>January 1, 2020</td>\n",
       "      <td>TV-MA</td>\n",
       "      <td>1 Season</td>\n",
       "      <td>Dramas, International Movies</td>\n",
       "      <td>Paranormal activity at a lush, abandoned prope...</td>\n",
       "    </tr>\n",
       "    <tr>\n",
       "      <th>freq</th>\n",
       "      <td>1</td>\n",
       "      <td>6131</td>\n",
       "      <td>1</td>\n",
       "      <td>19</td>\n",
       "      <td>19</td>\n",
       "      <td>2818</td>\n",
       "      <td>109</td>\n",
       "      <td>3207</td>\n",
       "      <td>1793</td>\n",
       "      <td>362</td>\n",
       "      <td>4</td>\n",
       "    </tr>\n",
       "  </tbody>\n",
       "</table>\n",
       "</div>"
      ],
      "text/plain": [
       "       show_id   type                 title       director  \\\n",
       "count     8807   8807                  8807           6173   \n",
       "unique    8807      2                  8807           4528   \n",
       "top         s1  Movie  Dick Johnson Is Dead  Rajiv Chilaka   \n",
       "freq         1   6131                     1             19   \n",
       "\n",
       "                      cast        country       date_added rating  duration  \\\n",
       "count                 7982           7976             8797   8803      8804   \n",
       "unique                7692            748             1767     17       220   \n",
       "top     David Attenborough  United States  January 1, 2020  TV-MA  1 Season   \n",
       "freq                    19           2818              109   3207      1793   \n",
       "\n",
       "                           listed_in  \\\n",
       "count                           8807   \n",
       "unique                           514   \n",
       "top     Dramas, International Movies   \n",
       "freq                             362   \n",
       "\n",
       "                                              description  \n",
       "count                                                8807  \n",
       "unique                                               8775  \n",
       "top     Paranormal activity at a lush, abandoned prope...  \n",
       "freq                                                    4  "
      ]
     },
     "execution_count": 136,
     "metadata": {},
     "output_type": "execute_result"
    }
   ],
   "source": [
    "df.describe(include = \"object\")"
   ]
  },
  {
   "cell_type": "markdown",
   "id": "5baf25ba",
   "metadata": {},
   "source": [
    "- **Missing Value Treatment**"
   ]
  },
  {
   "cell_type": "code",
   "execution_count": 137,
   "id": "85862ad5",
   "metadata": {},
   "outputs": [],
   "source": [
    "df_missing =  pd.DataFrame({\"Missing_values\": df.isnull().sum(), \"Percentage\": round(df.isnull().sum()/len(df)*100, 2)})"
   ]
  },
  {
   "cell_type": "code",
   "execution_count": 138,
   "id": "ecf1934e",
   "metadata": {},
   "outputs": [
    {
     "data": {
      "text/html": [
       "<div>\n",
       "<style scoped>\n",
       "    .dataframe tbody tr th:only-of-type {\n",
       "        vertical-align: middle;\n",
       "    }\n",
       "\n",
       "    .dataframe tbody tr th {\n",
       "        vertical-align: top;\n",
       "    }\n",
       "\n",
       "    .dataframe thead th {\n",
       "        text-align: right;\n",
       "    }\n",
       "</style>\n",
       "<table border=\"1\" class=\"dataframe\">\n",
       "  <thead>\n",
       "    <tr style=\"text-align: right;\">\n",
       "      <th></th>\n",
       "      <th>Missing_values</th>\n",
       "      <th>Percentage</th>\n",
       "    </tr>\n",
       "  </thead>\n",
       "  <tbody>\n",
       "    <tr>\n",
       "      <th>show_id</th>\n",
       "      <td>0</td>\n",
       "      <td>0.00</td>\n",
       "    </tr>\n",
       "    <tr>\n",
       "      <th>type</th>\n",
       "      <td>0</td>\n",
       "      <td>0.00</td>\n",
       "    </tr>\n",
       "    <tr>\n",
       "      <th>title</th>\n",
       "      <td>0</td>\n",
       "      <td>0.00</td>\n",
       "    </tr>\n",
       "    <tr>\n",
       "      <th>director</th>\n",
       "      <td>2634</td>\n",
       "      <td>29.91</td>\n",
       "    </tr>\n",
       "    <tr>\n",
       "      <th>cast</th>\n",
       "      <td>825</td>\n",
       "      <td>9.37</td>\n",
       "    </tr>\n",
       "    <tr>\n",
       "      <th>country</th>\n",
       "      <td>831</td>\n",
       "      <td>9.44</td>\n",
       "    </tr>\n",
       "    <tr>\n",
       "      <th>date_added</th>\n",
       "      <td>10</td>\n",
       "      <td>0.11</td>\n",
       "    </tr>\n",
       "    <tr>\n",
       "      <th>release_year</th>\n",
       "      <td>0</td>\n",
       "      <td>0.00</td>\n",
       "    </tr>\n",
       "    <tr>\n",
       "      <th>rating</th>\n",
       "      <td>4</td>\n",
       "      <td>0.05</td>\n",
       "    </tr>\n",
       "    <tr>\n",
       "      <th>duration</th>\n",
       "      <td>3</td>\n",
       "      <td>0.03</td>\n",
       "    </tr>\n",
       "    <tr>\n",
       "      <th>listed_in</th>\n",
       "      <td>0</td>\n",
       "      <td>0.00</td>\n",
       "    </tr>\n",
       "    <tr>\n",
       "      <th>description</th>\n",
       "      <td>0</td>\n",
       "      <td>0.00</td>\n",
       "    </tr>\n",
       "  </tbody>\n",
       "</table>\n",
       "</div>"
      ],
      "text/plain": [
       "              Missing_values  Percentage\n",
       "show_id                    0        0.00\n",
       "type                       0        0.00\n",
       "title                      0        0.00\n",
       "director                2634       29.91\n",
       "cast                     825        9.37\n",
       "country                  831        9.44\n",
       "date_added                10        0.11\n",
       "release_year               0        0.00\n",
       "rating                     4        0.05\n",
       "duration                   3        0.03\n",
       "listed_in                  0        0.00\n",
       "description                0        0.00"
      ]
     },
     "execution_count": 138,
     "metadata": {},
     "output_type": "execute_result"
    }
   ],
   "source": [
    "df_missing"
   ]
  },
  {
   "cell_type": "code",
   "execution_count": 139,
   "id": "ce7fcb23",
   "metadata": {},
   "outputs": [],
   "source": [
    "# fill null values with a specific values:\n",
    "df['director'].fillna(\"Unknown director\",inplace=True)\n",
    "df['cast'].fillna(\"Unknown cast\",inplace=True)\n",
    "df['country'].fillna(\"Unknown country\",inplace=True)\n",
    "df['date_added'].fillna(\"January 1,1900\",inplace=True)\n",
    "df['duration'].fillna(\"Unknown duration\",inplace=True)\n",
    "df['rating'].fillna(\"Unknown rating\",inplace=True)"
   ]
  },
  {
   "cell_type": "code",
   "execution_count": 140,
   "id": "4ce031ee",
   "metadata": {},
   "outputs": [
    {
     "data": {
      "text/plain": [
       "show_id         0\n",
       "type            0\n",
       "title           0\n",
       "director        0\n",
       "cast            0\n",
       "country         0\n",
       "date_added      0\n",
       "release_year    0\n",
       "rating          0\n",
       "duration        0\n",
       "listed_in       0\n",
       "description     0\n",
       "dtype: int64"
      ]
     },
     "execution_count": 140,
     "metadata": {},
     "output_type": "execute_result"
    }
   ],
   "source": [
    "df.isnull().sum()"
   ]
  },
  {
   "cell_type": "markdown",
   "id": "469b9c20",
   "metadata": {},
   "source": [
    "- When we converted categorical columns to category, internally stores them as integer codes instead of full strings.\n",
    "- Saves memory by encoding repeated strings as numbers.\n",
    "- Faster grouping, sorting, and aggregations.\n",
    "- Prevents invalid category values"
   ]
  },
  {
   "cell_type": "code",
   "execution_count": 141,
   "id": "1cb32ada",
   "metadata": {},
   "outputs": [],
   "source": [
    "df[\"type\"] = df[\"type\"].astype(\"category\")\n",
    "df[\"country\"] = df[\"country\"].astype(\"category\")\n",
    "df[\"rating\"] = df[\"rating\"].astype(\"category\")"
   ]
  },
  {
   "cell_type": "code",
   "execution_count": 142,
   "id": "366f5c41",
   "metadata": {},
   "outputs": [
    {
     "data": {
      "text/plain": [
       "show_id           object\n",
       "type            category\n",
       "title             object\n",
       "director          object\n",
       "cast              object\n",
       "country         category\n",
       "date_added        object\n",
       "release_year       int64\n",
       "rating          category\n",
       "duration          object\n",
       "listed_in         object\n",
       "description       object\n",
       "dtype: object"
      ]
     },
     "execution_count": 142,
     "metadata": {},
     "output_type": "execute_result"
    }
   ],
   "source": [
    "df.dtypes"
   ]
  },
  {
   "cell_type": "markdown",
   "id": "6043661f",
   "metadata": {},
   "source": [
    "### <font color='purple'>3. Non-Graphical Analysis: Value counts and unique attributes </font>"
   ]
  },
  {
   "cell_type": "code",
   "execution_count": 143,
   "id": "fde2342f",
   "metadata": {},
   "outputs": [
    {
     "data": {
      "text/plain": [
       "Index(['show_id', 'type', 'title', 'director', 'cast', 'country', 'date_added',\n",
       "       'release_year', 'rating', 'duration', 'listed_in', 'description'],\n",
       "      dtype='object')"
      ]
     },
     "execution_count": 143,
     "metadata": {},
     "output_type": "execute_result"
    }
   ],
   "source": [
    "df.columns"
   ]
  },
  {
   "cell_type": "code",
   "execution_count": 144,
   "id": "c91aab7f",
   "metadata": {},
   "outputs": [
    {
     "data": {
      "text/plain": [
       "Movie      6131\n",
       "TV Show    2676\n",
       "Name: type, dtype: int64"
      ]
     },
     "execution_count": 144,
     "metadata": {},
     "output_type": "execute_result"
    }
   ],
   "source": [
    "df[\"type\"].value_counts()"
   ]
  },
  {
   "cell_type": "code",
   "execution_count": 198,
   "id": "35c65e66",
   "metadata": {},
   "outputs": [
    {
     "data": {
      "text/plain": [
       "1 Season      1793\n",
       "2 Seasons      425\n",
       "3 Seasons      199\n",
       "4 Seasons       95\n",
       "5 Seasons       65\n",
       "6 Seasons       33\n",
       "7 Seasons       23\n",
       "8 Seasons       17\n",
       "9 Seasons        9\n",
       "10 Seasons       7\n",
       "13 Seasons       3\n",
       "15 Seasons       2\n",
       "12 Seasons       2\n",
       "11 Seasons       2\n",
       "17 Seasons       1\n",
       "Name: duration, dtype: int64"
      ]
     },
     "execution_count": 198,
     "metadata": {},
     "output_type": "execute_result"
    }
   ],
   "source": [
    "df1[df1[\"type\"] == \"TV Show\"][\"duration\"].value_counts()"
   ]
  },
  {
   "cell_type": "code",
   "execution_count": 145,
   "id": "212187bb",
   "metadata": {},
   "outputs": [
    {
     "data": {
      "text/plain": [
       "United States      2818\n",
       "India               972\n",
       "Unknown country     831\n",
       "United Kingdom      419\n",
       "Japan               245\n",
       "Name: country, dtype: int64"
      ]
     },
     "execution_count": 145,
     "metadata": {},
     "output_type": "execute_result"
    }
   ],
   "source": [
    "df[\"country\"].value_counts().head()"
   ]
  },
  {
   "cell_type": "code",
   "execution_count": 146,
   "id": "fa049d8e",
   "metadata": {},
   "outputs": [
    {
     "data": {
      "text/plain": [
       "TV-MA             3207\n",
       "TV-14             2160\n",
       "TV-PG              863\n",
       "R                  799\n",
       "PG-13              490\n",
       "TV-Y7              334\n",
       "TV-Y               307\n",
       "PG                 287\n",
       "TV-G               220\n",
       "NR                  80\n",
       "G                   41\n",
       "TV-Y7-FV             6\n",
       "Unknown rating       4\n",
       "NC-17                3\n",
       "UR                   3\n",
       "74 min               1\n",
       "84 min               1\n",
       "66 min               1\n",
       "Name: rating, dtype: int64"
      ]
     },
     "execution_count": 146,
     "metadata": {},
     "output_type": "execute_result"
    }
   ],
   "source": [
    "df[\"rating\"].value_counts()"
   ]
  },
  {
   "cell_type": "code",
   "execution_count": 147,
   "id": "f7b769a2",
   "metadata": {},
   "outputs": [
    {
     "data": {
      "text/plain": [
       "Dramas, International Movies                          362\n",
       "Documentaries                                         359\n",
       "Stand-Up Comedy                                       334\n",
       "Comedies, Dramas, International Movies                274\n",
       "Dramas, Independent Movies, International Movies      252\n",
       "                                                     ... \n",
       "Kids' TV, TV Action & Adventure, TV Dramas              1\n",
       "TV Comedies, TV Dramas, TV Horror                       1\n",
       "Children & Family Movies, Comedies, LGBTQ Movies        1\n",
       "Kids' TV, Spanish-Language TV Shows, Teen TV Shows      1\n",
       "Cult Movies, Dramas, Thrillers                          1\n",
       "Name: listed_in, Length: 514, dtype: int64"
      ]
     },
     "execution_count": 147,
     "metadata": {},
     "output_type": "execute_result"
    }
   ],
   "source": [
    "df[\"listed_in\"].value_counts()"
   ]
  },
  {
   "cell_type": "code",
   "execution_count": 148,
   "id": "4ad2af71",
   "metadata": {},
   "outputs": [
    {
     "data": {
      "text/plain": [
       "2018    1147\n",
       "2017    1032\n",
       "2019    1030\n",
       "2020     953\n",
       "2016     902\n",
       "        ... \n",
       "1959       1\n",
       "1925       1\n",
       "1961       1\n",
       "1947       1\n",
       "1966       1\n",
       "Name: release_year, Length: 74, dtype: int64"
      ]
     },
     "execution_count": 148,
     "metadata": {},
     "output_type": "execute_result"
    }
   ],
   "source": [
    "df[\"release_year\"].value_counts()"
   ]
  },
  {
   "cell_type": "markdown",
   "id": "bdc4c778",
   "metadata": {},
   "source": [
    "### <font color='purple'>4. Visual Analysis - Univariate, Bivariate after pre-processing of the data </font>"
   ]
  },
  {
   "cell_type": "code",
   "execution_count": 149,
   "id": "79da942f",
   "metadata": {},
   "outputs": [],
   "source": [
    "# unnesting the columns\n",
    "df[\"cast_split\"] = df[\"cast\"].str.split(\", \")\n",
    "df = df.explode(\"cast_split\")\n",
    "df[\"director_split\"] = df[\"director\"].str.split(\", \")\n",
    "df = df.explode(\"director_split\")\n",
    "df[\"country_split\"] = df[\"country\"].str.split(\", \")\n",
    "df = df.explode(\"country_split\")\n",
    "df['listed_in_split'] = df['listed_in'].str.split(', ')\n",
    "df = df.explode('listed_in_split')"
   ]
  },
  {
   "cell_type": "code",
   "execution_count": 150,
   "id": "77dc0673",
   "metadata": {},
   "outputs": [
    {
     "data": {
      "text/plain": [
       "Index(['show_id', 'type', 'title', 'director', 'cast', 'country', 'date_added',\n",
       "       'release_year', 'rating', 'duration', 'listed_in', 'description',\n",
       "       'cast_split', 'director_split', 'country_split', 'listed_in_split'],\n",
       "      dtype='object')"
      ]
     },
     "execution_count": 150,
     "metadata": {},
     "output_type": "execute_result"
    }
   ],
   "source": [
    "df.columns"
   ]
  },
  {
   "cell_type": "code",
   "execution_count": 151,
   "id": "b84252c0",
   "metadata": {},
   "outputs": [
    {
     "data": {
      "text/html": [
       "<div>\n",
       "<style scoped>\n",
       "    .dataframe tbody tr th:only-of-type {\n",
       "        vertical-align: middle;\n",
       "    }\n",
       "\n",
       "    .dataframe tbody tr th {\n",
       "        vertical-align: top;\n",
       "    }\n",
       "\n",
       "    .dataframe thead th {\n",
       "        text-align: right;\n",
       "    }\n",
       "</style>\n",
       "<table border=\"1\" class=\"dataframe\">\n",
       "  <thead>\n",
       "    <tr style=\"text-align: right;\">\n",
       "      <th></th>\n",
       "      <th>show_id</th>\n",
       "      <th>type</th>\n",
       "      <th>title</th>\n",
       "      <th>director</th>\n",
       "      <th>cast</th>\n",
       "      <th>country</th>\n",
       "      <th>date_added</th>\n",
       "      <th>release_year</th>\n",
       "      <th>rating</th>\n",
       "      <th>duration</th>\n",
       "      <th>listed_in</th>\n",
       "      <th>description</th>\n",
       "      <th>cast_split</th>\n",
       "      <th>director_split</th>\n",
       "      <th>country_split</th>\n",
       "      <th>listed_in_split</th>\n",
       "    </tr>\n",
       "  </thead>\n",
       "  <tbody>\n",
       "    <tr>\n",
       "      <th>0</th>\n",
       "      <td>s1</td>\n",
       "      <td>Movie</td>\n",
       "      <td>Dick Johnson Is Dead</td>\n",
       "      <td>Kirsten Johnson</td>\n",
       "      <td>Unknown cast</td>\n",
       "      <td>United States</td>\n",
       "      <td>September 25, 2021</td>\n",
       "      <td>2020</td>\n",
       "      <td>PG-13</td>\n",
       "      <td>90 min</td>\n",
       "      <td>Documentaries</td>\n",
       "      <td>As her father nears the end of his life, filmm...</td>\n",
       "      <td>Unknown cast</td>\n",
       "      <td>Kirsten Johnson</td>\n",
       "      <td>United States</td>\n",
       "      <td>Documentaries</td>\n",
       "    </tr>\n",
       "    <tr>\n",
       "      <th>1</th>\n",
       "      <td>s2</td>\n",
       "      <td>TV Show</td>\n",
       "      <td>Blood &amp; Water</td>\n",
       "      <td>Unknown director</td>\n",
       "      <td>Ama Qamata, Khosi Ngema, Gail Mabalane, Thaban...</td>\n",
       "      <td>South Africa</td>\n",
       "      <td>September 24, 2021</td>\n",
       "      <td>2021</td>\n",
       "      <td>TV-MA</td>\n",
       "      <td>2 Seasons</td>\n",
       "      <td>International TV Shows, TV Dramas, TV Mysteries</td>\n",
       "      <td>After crossing paths at a party, a Cape Town t...</td>\n",
       "      <td>Ama Qamata</td>\n",
       "      <td>Unknown director</td>\n",
       "      <td>South Africa</td>\n",
       "      <td>International TV Shows</td>\n",
       "    </tr>\n",
       "    <tr>\n",
       "      <th>1</th>\n",
       "      <td>s2</td>\n",
       "      <td>TV Show</td>\n",
       "      <td>Blood &amp; Water</td>\n",
       "      <td>Unknown director</td>\n",
       "      <td>Ama Qamata, Khosi Ngema, Gail Mabalane, Thaban...</td>\n",
       "      <td>South Africa</td>\n",
       "      <td>September 24, 2021</td>\n",
       "      <td>2021</td>\n",
       "      <td>TV-MA</td>\n",
       "      <td>2 Seasons</td>\n",
       "      <td>International TV Shows, TV Dramas, TV Mysteries</td>\n",
       "      <td>After crossing paths at a party, a Cape Town t...</td>\n",
       "      <td>Ama Qamata</td>\n",
       "      <td>Unknown director</td>\n",
       "      <td>South Africa</td>\n",
       "      <td>TV Dramas</td>\n",
       "    </tr>\n",
       "    <tr>\n",
       "      <th>1</th>\n",
       "      <td>s2</td>\n",
       "      <td>TV Show</td>\n",
       "      <td>Blood &amp; Water</td>\n",
       "      <td>Unknown director</td>\n",
       "      <td>Ama Qamata, Khosi Ngema, Gail Mabalane, Thaban...</td>\n",
       "      <td>South Africa</td>\n",
       "      <td>September 24, 2021</td>\n",
       "      <td>2021</td>\n",
       "      <td>TV-MA</td>\n",
       "      <td>2 Seasons</td>\n",
       "      <td>International TV Shows, TV Dramas, TV Mysteries</td>\n",
       "      <td>After crossing paths at a party, a Cape Town t...</td>\n",
       "      <td>Ama Qamata</td>\n",
       "      <td>Unknown director</td>\n",
       "      <td>South Africa</td>\n",
       "      <td>TV Mysteries</td>\n",
       "    </tr>\n",
       "    <tr>\n",
       "      <th>1</th>\n",
       "      <td>s2</td>\n",
       "      <td>TV Show</td>\n",
       "      <td>Blood &amp; Water</td>\n",
       "      <td>Unknown director</td>\n",
       "      <td>Ama Qamata, Khosi Ngema, Gail Mabalane, Thaban...</td>\n",
       "      <td>South Africa</td>\n",
       "      <td>September 24, 2021</td>\n",
       "      <td>2021</td>\n",
       "      <td>TV-MA</td>\n",
       "      <td>2 Seasons</td>\n",
       "      <td>International TV Shows, TV Dramas, TV Mysteries</td>\n",
       "      <td>After crossing paths at a party, a Cape Town t...</td>\n",
       "      <td>Khosi Ngema</td>\n",
       "      <td>Unknown director</td>\n",
       "      <td>South Africa</td>\n",
       "      <td>International TV Shows</td>\n",
       "    </tr>\n",
       "  </tbody>\n",
       "</table>\n",
       "</div>"
      ],
      "text/plain": [
       "  show_id     type                 title          director  \\\n",
       "0      s1    Movie  Dick Johnson Is Dead   Kirsten Johnson   \n",
       "1      s2  TV Show         Blood & Water  Unknown director   \n",
       "1      s2  TV Show         Blood & Water  Unknown director   \n",
       "1      s2  TV Show         Blood & Water  Unknown director   \n",
       "1      s2  TV Show         Blood & Water  Unknown director   \n",
       "\n",
       "                                                cast        country  \\\n",
       "0                                       Unknown cast  United States   \n",
       "1  Ama Qamata, Khosi Ngema, Gail Mabalane, Thaban...   South Africa   \n",
       "1  Ama Qamata, Khosi Ngema, Gail Mabalane, Thaban...   South Africa   \n",
       "1  Ama Qamata, Khosi Ngema, Gail Mabalane, Thaban...   South Africa   \n",
       "1  Ama Qamata, Khosi Ngema, Gail Mabalane, Thaban...   South Africa   \n",
       "\n",
       "           date_added  release_year rating   duration  \\\n",
       "0  September 25, 2021          2020  PG-13     90 min   \n",
       "1  September 24, 2021          2021  TV-MA  2 Seasons   \n",
       "1  September 24, 2021          2021  TV-MA  2 Seasons   \n",
       "1  September 24, 2021          2021  TV-MA  2 Seasons   \n",
       "1  September 24, 2021          2021  TV-MA  2 Seasons   \n",
       "\n",
       "                                         listed_in  \\\n",
       "0                                    Documentaries   \n",
       "1  International TV Shows, TV Dramas, TV Mysteries   \n",
       "1  International TV Shows, TV Dramas, TV Mysteries   \n",
       "1  International TV Shows, TV Dramas, TV Mysteries   \n",
       "1  International TV Shows, TV Dramas, TV Mysteries   \n",
       "\n",
       "                                         description    cast_split  \\\n",
       "0  As her father nears the end of his life, filmm...  Unknown cast   \n",
       "1  After crossing paths at a party, a Cape Town t...    Ama Qamata   \n",
       "1  After crossing paths at a party, a Cape Town t...    Ama Qamata   \n",
       "1  After crossing paths at a party, a Cape Town t...    Ama Qamata   \n",
       "1  After crossing paths at a party, a Cape Town t...   Khosi Ngema   \n",
       "\n",
       "     director_split  country_split         listed_in_split  \n",
       "0   Kirsten Johnson  United States           Documentaries  \n",
       "1  Unknown director   South Africa  International TV Shows  \n",
       "1  Unknown director   South Africa               TV Dramas  \n",
       "1  Unknown director   South Africa            TV Mysteries  \n",
       "1  Unknown director   South Africa  International TV Shows  "
      ]
     },
     "execution_count": 151,
     "metadata": {},
     "output_type": "execute_result"
    }
   ],
   "source": [
    "df.head()"
   ]
  },
  {
   "cell_type": "code",
   "execution_count": 152,
   "id": "29a922e6",
   "metadata": {},
   "outputs": [
    {
     "data": {
      "text/plain": [
       "(201991, 16)"
      ]
     },
     "execution_count": 152,
     "metadata": {},
     "output_type": "execute_result"
    }
   ],
   "source": [
    "df.shape"
   ]
  },
  {
   "cell_type": "code",
   "execution_count": 153,
   "id": "793e72a6",
   "metadata": {},
   "outputs": [
    {
     "data": {
      "text/html": [
       "<div>\n",
       "<style scoped>\n",
       "    .dataframe tbody tr th:only-of-type {\n",
       "        vertical-align: middle;\n",
       "    }\n",
       "\n",
       "    .dataframe tbody tr th {\n",
       "        vertical-align: top;\n",
       "    }\n",
       "\n",
       "    .dataframe thead th {\n",
       "        text-align: right;\n",
       "    }\n",
       "</style>\n",
       "<table border=\"1\" class=\"dataframe\">\n",
       "  <thead>\n",
       "    <tr style=\"text-align: right;\">\n",
       "      <th></th>\n",
       "      <th>show_id</th>\n",
       "      <th>title</th>\n",
       "      <th>release_year</th>\n",
       "      <th>type</th>\n",
       "    </tr>\n",
       "  </thead>\n",
       "  <tbody>\n",
       "    <tr>\n",
       "      <th>0</th>\n",
       "      <td>s1</td>\n",
       "      <td>Dick Johnson Is Dead</td>\n",
       "      <td>2020</td>\n",
       "      <td>Movie</td>\n",
       "    </tr>\n",
       "    <tr>\n",
       "      <th>1</th>\n",
       "      <td>s2</td>\n",
       "      <td>Blood &amp; Water</td>\n",
       "      <td>2021</td>\n",
       "      <td>TV Show</td>\n",
       "    </tr>\n",
       "    <tr>\n",
       "      <th>1</th>\n",
       "      <td>s2</td>\n",
       "      <td>Blood &amp; Water</td>\n",
       "      <td>2021</td>\n",
       "      <td>TV Show</td>\n",
       "    </tr>\n",
       "    <tr>\n",
       "      <th>1</th>\n",
       "      <td>s2</td>\n",
       "      <td>Blood &amp; Water</td>\n",
       "      <td>2021</td>\n",
       "      <td>TV Show</td>\n",
       "    </tr>\n",
       "    <tr>\n",
       "      <th>1</th>\n",
       "      <td>s2</td>\n",
       "      <td>Blood &amp; Water</td>\n",
       "      <td>2021</td>\n",
       "      <td>TV Show</td>\n",
       "    </tr>\n",
       "  </tbody>\n",
       "</table>\n",
       "</div>"
      ],
      "text/plain": [
       "  show_id                 title  release_year     type\n",
       "0      s1  Dick Johnson Is Dead          2020    Movie\n",
       "1      s2         Blood & Water          2021  TV Show\n",
       "1      s2         Blood & Water          2021  TV Show\n",
       "1      s2         Blood & Water          2021  TV Show\n",
       "1      s2         Blood & Water          2021  TV Show"
      ]
     },
     "execution_count": 153,
     "metadata": {},
     "output_type": "execute_result"
    }
   ],
   "source": [
    "small_df=df[['show_id','title','release_year','type']]\n",
    "small_df.head(5)"
   ]
  },
  {
   "cell_type": "code",
   "execution_count": 154,
   "id": "c0ab06c0",
   "metadata": {},
   "outputs": [],
   "source": [
    "small_df.drop_duplicates(inplace = True)"
   ]
  },
  {
   "cell_type": "code",
   "execution_count": 155,
   "id": "95983704",
   "metadata": {},
   "outputs": [
    {
     "data": {
      "text/plain": [
       "Index(['show_id', 'type', 'title', 'director', 'cast', 'country', 'date_added',\n",
       "       'release_year', 'rating', 'duration', 'listed_in', 'description',\n",
       "       'cast_split', 'director_split', 'country_split', 'listed_in_split'],\n",
       "      dtype='object')"
      ]
     },
     "execution_count": 155,
     "metadata": {},
     "output_type": "execute_result"
    }
   ],
   "source": [
    "df.columns"
   ]
  },
  {
   "cell_type": "code",
   "execution_count": 156,
   "id": "d93cbf84",
   "metadata": {},
   "outputs": [
    {
     "data": {
      "text/plain": [
       "Movie      145843\n",
       "TV Show     56148\n",
       "Name: type, dtype: int64"
      ]
     },
     "execution_count": 156,
     "metadata": {},
     "output_type": "execute_result"
    }
   ],
   "source": [
    "df[\"type\"].value_counts()"
   ]
  },
  {
   "cell_type": "code",
   "execution_count": 157,
   "id": "30e68337",
   "metadata": {},
   "outputs": [
    {
     "data": {
      "text/plain": [
       "country\n",
       "United States                                                2058\n",
       "India                                                         893\n",
       "Unknown country                                               440\n",
       "United Kingdom                                                206\n",
       "Canada                                                        122\n",
       "                                                             ... \n",
       "Canada, United States, United Kingdom, France, Luxembourg       0\n",
       "United Kingdom, Australia                                       0\n",
       "Spain, Germany, Denmark, United States                          0\n",
       "Chile, Italy                                                    0\n",
       "Philippines, Singapore, Indonesia                               0\n",
       "Name: title, Length: 749, dtype: int64"
      ]
     },
     "execution_count": 157,
     "metadata": {},
     "output_type": "execute_result"
    }
   ],
   "source": [
    "movie_count_by_country = df[df[\"type\"] == \"Movie\"].groupby(\"country\")[\"title\"].nunique().sort_values(ascending = False)\n",
    "movie_count_by_country"
   ]
  },
  {
   "cell_type": "code",
   "execution_count": 158,
   "id": "ee998a89",
   "metadata": {},
   "outputs": [
    {
     "data": {
      "text/plain": [
       "country\n",
       "United States      760\n",
       "Unknown country    391\n",
       "United Kingdom     213\n",
       "Japan              169\n",
       "South Korea        158\n",
       "India               79\n",
       "Taiwan              68\n",
       "Canada              59\n",
       "France              49\n",
       "Spain               48\n",
       "Name: title, dtype: int64"
      ]
     },
     "execution_count": 158,
     "metadata": {},
     "output_type": "execute_result"
    }
   ],
   "source": [
    "TV_shows_count_country = df[df[\"type\"] == \"TV Show\"].groupby(\"country\")[\"title\"].nunique().sort_values(ascending = False)\n",
    "TV_shows_count_country.head(10)"
   ]
  },
  {
   "cell_type": "code",
   "execution_count": 159,
   "id": "0d412302",
   "metadata": {},
   "outputs": [
    {
     "data": {
      "text/plain": [
       "show_id              object\n",
       "type               category\n",
       "title                object\n",
       "director             object\n",
       "cast                 object\n",
       "country            category\n",
       "date_added           object\n",
       "release_year          int64\n",
       "rating             category\n",
       "duration             object\n",
       "listed_in            object\n",
       "description          object\n",
       "cast_split           object\n",
       "director_split       object\n",
       "country_split        object\n",
       "listed_in_split      object\n",
       "dtype: object"
      ]
     },
     "execution_count": 159,
     "metadata": {},
     "output_type": "execute_result"
    }
   ],
   "source": [
    "df.dtypes"
   ]
  },
  {
   "cell_type": "code",
   "execution_count": 160,
   "id": "2ff37240",
   "metadata": {},
   "outputs": [],
   "source": [
    "df['date_added'] = df['date_added'].str.replace(',', ', ', regex=False)  # Ensure space after comma\n",
    "df['date_added'] = df['date_added'].str.replace('  ', ' ', regex=False)  # Remove double spaces\n",
    "df['date_added'] = pd.to_datetime(df['date_added'], format='%B %d, %Y', errors='coerce')\n",
    "df['week_added'] = df['date_added'].dt.strftime('%Y-%U')\n"
   ]
  },
  {
   "cell_type": "code",
   "execution_count": 161,
   "id": "dcf04145",
   "metadata": {},
   "outputs": [],
   "source": [
    "tv_shows = df[df['type'] == 'TV Show']\n",
    "movies = df[df['type'] == 'Movie']\n",
    "\n",
    "# Split the 'cast' column to create a list of actors\n",
    "tv_shows['cast_split'] = tv_shows['cast'].apply(lambda x: x.split(', ') if isinstance(x, str) else [])\n",
    "movies['cast_split'] = movies['cast'].apply(lambda x: x.split(', ') if isinstance(x, str) else [])\n"
   ]
  },
  {
   "cell_type": "code",
   "execution_count": 162,
   "id": "446477a5",
   "metadata": {},
   "outputs": [
    {
     "name": "stdout",
     "output_type": "stream",
     "text": [
      "Top 10 Actors with frequently Appearances in movies:\n",
      "             Actor  Appearances\n",
      "0     Unknown cast         1328\n",
      "1    Alfred Molina         1255\n",
      "2      Liam Neeson         1244\n",
      "3      Anupam Kher         1122\n",
      "4      Salma Hayek         1092\n",
      "5   John Krasinski         1072\n",
      "6     James Franco         1058\n",
      "7      Halle Berry         1057\n",
      "8    Paul Giamatti         1026\n",
      "9   Shah Rukh Khan         1007\n",
      "10   Jim Broadbent          998\n"
     ]
    }
   ],
   "source": [
    "all_actors = [actor for i in movies['cast_split'] for actor in i]\n",
    "\n",
    "actor_counts = pd.Series(all_actors).value_counts().reset_index()\n",
    "actor_counts.columns = ['Actor', 'Appearances']\n",
    "\n",
    "top_10_actors = actor_counts.head(11)\n",
    "\n",
    "print(\"Top 10 Actors with frequently Appearances in movies:\")\n",
    "print(top_10_actors)"
   ]
  },
  {
   "cell_type": "code",
   "execution_count": 163,
   "id": "66332475",
   "metadata": {},
   "outputs": [
    {
     "name": "stdout",
     "output_type": "stream",
     "text": [
      "Top 10 actor with frequency appearence in TV shows\n"
     ]
    },
    {
     "data": {
      "text/html": [
       "<div>\n",
       "<style scoped>\n",
       "    .dataframe tbody tr th:only-of-type {\n",
       "        vertical-align: middle;\n",
       "    }\n",
       "\n",
       "    .dataframe tbody tr th {\n",
       "        vertical-align: top;\n",
       "    }\n",
       "\n",
       "    .dataframe thead th {\n",
       "        text-align: right;\n",
       "    }\n",
       "</style>\n",
       "<table border=\"1\" class=\"dataframe\">\n",
       "  <thead>\n",
       "    <tr style=\"text-align: right;\">\n",
       "      <th></th>\n",
       "      <th>Actor</th>\n",
       "      <th>Appearence</th>\n",
       "    </tr>\n",
       "  </thead>\n",
       "  <tbody>\n",
       "    <tr>\n",
       "      <th>0</th>\n",
       "      <td>Takahiro Sakurai</td>\n",
       "      <td>843</td>\n",
       "    </tr>\n",
       "    <tr>\n",
       "      <th>1</th>\n",
       "      <td>Unknown cast</td>\n",
       "      <td>818</td>\n",
       "    </tr>\n",
       "    <tr>\n",
       "      <th>2</th>\n",
       "      <td>Yuichi Nakamura</td>\n",
       "      <td>732</td>\n",
       "    </tr>\n",
       "    <tr>\n",
       "      <th>3</th>\n",
       "      <td>Jun Fukuyama</td>\n",
       "      <td>679</td>\n",
       "    </tr>\n",
       "    <tr>\n",
       "      <th>4</th>\n",
       "      <td>Yuki Kaji</td>\n",
       "      <td>674</td>\n",
       "    </tr>\n",
       "    <tr>\n",
       "      <th>5</th>\n",
       "      <td>Junichi Suwabe</td>\n",
       "      <td>624</td>\n",
       "    </tr>\n",
       "    <tr>\n",
       "      <th>6</th>\n",
       "      <td>Hiroshi Kamiya</td>\n",
       "      <td>608</td>\n",
       "    </tr>\n",
       "    <tr>\n",
       "      <th>7</th>\n",
       "      <td>Raúl Méndez</td>\n",
       "      <td>597</td>\n",
       "    </tr>\n",
       "    <tr>\n",
       "      <th>8</th>\n",
       "      <td>Daisuke Ono</td>\n",
       "      <td>583</td>\n",
       "    </tr>\n",
       "    <tr>\n",
       "      <th>9</th>\n",
       "      <td>André Holland</td>\n",
       "      <td>536</td>\n",
       "    </tr>\n",
       "    <tr>\n",
       "      <th>10</th>\n",
       "      <td>Ai Kayano</td>\n",
       "      <td>535</td>\n",
       "    </tr>\n",
       "  </tbody>\n",
       "</table>\n",
       "</div>"
      ],
      "text/plain": [
       "               Actor  Appearence\n",
       "0   Takahiro Sakurai         843\n",
       "1       Unknown cast         818\n",
       "2    Yuichi Nakamura         732\n",
       "3       Jun Fukuyama         679\n",
       "4          Yuki Kaji         674\n",
       "5     Junichi Suwabe         624\n",
       "6     Hiroshi Kamiya         608\n",
       "7        Raúl Méndez         597\n",
       "8        Daisuke Ono         583\n",
       "9      André Holland         536\n",
       "10         Ai Kayano         535"
      ]
     },
     "execution_count": 163,
     "metadata": {},
     "output_type": "execute_result"
    }
   ],
   "source": [
    "all_actors = [actor for i in tv_shows[\"cast_split\"] for actor in i]\n",
    "actor_count = pd.Series(all_actors).value_counts().reset_index()\n",
    "actor_count.columns = [\"Actor\", \"Appearence\"]\n",
    "print(\"Top 10 actor with frequency appearence in TV shows\")\n",
    "actor_count.head(11)"
   ]
  },
  {
   "cell_type": "code",
   "execution_count": 164,
   "id": "fca90f7d",
   "metadata": {},
   "outputs": [],
   "source": [
    "tv_show[\"director_split\"] = tv_show[\"director\"].apply(lambda x:x.split(\", \") if isinstance(x, str) else [])\n",
    "movies[\"director_split\"] = movies[\"director\"].apply(lambda x:x.split(\", \") if isinstance(x, str) else [])\n"
   ]
  },
  {
   "cell_type": "code",
   "execution_count": 165,
   "id": "a2c9fb25",
   "metadata": {},
   "outputs": [
    {
     "name": "stdout",
     "output_type": "stream",
     "text": [
      "Top 10 director frequency in appearence\n",
      "                director  appearence\n",
      "0       Unknown director        1285\n",
      "1           Roger Allers         935\n",
      "2             Joann Sfar         700\n",
      "3          Bill Plympton         700\n",
      "4             Nina Paley         700\n",
      "5             Tomm Moore         700\n",
      "6   Mohammed Saeed Harib         700\n",
      "7          Joan C. Gratz         700\n",
      "8            Paul Brizzi         700\n",
      "9          Gaëtan Brizzi         700\n",
      "10         Michael Socha         700\n"
     ]
    }
   ],
   "source": [
    "all_director = [director for i in movies[\"director_split\"] for director in i]\n",
    "director_count = pd.Series(all_director).value_counts().reset_index()\n",
    "director_count.columns = [\"director\", \"appearence\"]\n",
    "print(\"Top 10 director frequency in appearence\")\n",
    "print(director_count.head(11))"
   ]
  },
  {
   "cell_type": "code",
   "execution_count": 166,
   "id": "706c1d91",
   "metadata": {},
   "outputs": [
    {
     "name": "stdout",
     "output_type": "stream",
     "text": [
      "Top 10 director frequency in appearence\n",
      "                 director  appearence\n",
      "0        Unknown director       49358\n",
      "1         Damien Chazelle         416\n",
      "2         Laïla Marrakchi         416\n",
      "3         Houda Benyamina         416\n",
      "4               Alan Poul         416\n",
      "5   Gautham Vasudev Menon         286\n",
      "6            Priyadarshan         198\n",
      "7                  Sarjun         198\n",
      "8     Rathindran R Prasad         198\n",
      "9            Arvind Swamy         198\n",
      "10       Karthik Subbaraj         198\n"
     ]
    }
   ],
   "source": [
    "all_director = [director for i in tv_show[\"director_split\"] for director in i]\n",
    "director_count = pd.Series(all_director).value_counts().reset_index()\n",
    "director_count.columns = [\"director\", \"appearence\"]\n",
    "print(\"Top 10 director frequency in appearence\")\n",
    "print(director_count.head(11))"
   ]
  },
  {
   "cell_type": "code",
   "execution_count": 167,
   "id": "d271871a",
   "metadata": {},
   "outputs": [
    {
     "data": {
      "text/plain": [
       "0                Documentaries\n",
       "1       International TV Shows\n",
       "1                    TV Dramas\n",
       "1                 TV Mysteries\n",
       "1       International TV Shows\n",
       "                 ...          \n",
       "8806      International Movies\n",
       "8806          Music & Musicals\n",
       "8806                    Dramas\n",
       "8806      International Movies\n",
       "8806          Music & Musicals\n",
       "Name: listed_in, Length: 506879, dtype: object"
      ]
     },
     "execution_count": 167,
     "metadata": {},
     "output_type": "execute_result"
    }
   ],
   "source": [
    "genre = df[\"listed_in\"].str.split(\", \").explode().str.strip()\n",
    "genre"
   ]
  },
  {
   "cell_type": "code",
   "execution_count": 168,
   "id": "96893750",
   "metadata": {},
   "outputs": [],
   "source": [
    "df1 = pd.read_csv(\"netflix.csv\")"
   ]
  },
  {
   "cell_type": "code",
   "execution_count": 169,
   "id": "616746d3",
   "metadata": {},
   "outputs": [
    {
     "name": "stdout",
     "output_type": "stream",
     "text": [
      "\n",
      "Missing Values:\n",
      "show_id         0\n",
      "type            0\n",
      "title           0\n",
      "director        0\n",
      "cast            0\n",
      "country         0\n",
      "date_added      0\n",
      "release_year    0\n",
      "rating          0\n",
      "duration        0\n",
      "listed_in       0\n",
      "description     0\n",
      "dtype: int64\n"
     ]
    }
   ],
   "source": [
    "df1['director'].fillna(\"Unknown director\" , inplace = True)\n",
    "df1['cast'].fillna(\"Unknown cast\" , inplace = True)\n",
    "df1['country'].fillna(\"Unknown country\" , inplace = True)\n",
    "df1['date_added'].fillna(\"January 1, 1900\" , inplace = True)\n",
    "df1['rating'].fillna(\"Unknown rating\" , inplace = True)\n",
    "df1['duration'].fillna(\"Unknown duration\" , inplace = True)\n",
    "missing_values = df1.isnull().sum()\n",
    "print(\"\\nMissing Values:\")\n",
    "print(missing_values)\n",
    "df1[\"type\"] = df1[\"type\"].astype(\"category\")\n",
    "df1[\"country\"] = df1[\"country\"].astype(\"category\")\n",
    "df1[\"rating\"] = df1[\"rating\"].astype(\"category\")"
   ]
  },
  {
   "cell_type": "code",
   "execution_count": 170,
   "id": "5b3ba865",
   "metadata": {},
   "outputs": [
    {
     "name": "stdout",
     "output_type": "stream",
     "text": [
      "The most common time duration between release and addition to Netflix is approximately 334 days.\n"
     ]
    }
   ],
   "source": [
    "df1['date_added'] = pd.to_datetime(df1['date_added'])\n",
    "\n",
    "# Calculate the difference in days between 'date_added' and 'release_year'\n",
    "df1['days_to_add'] = (df1['date_added'] - pd.to_datetime(df1['release_year'], format='%Y')).dt.days\n",
    "\n",
    "# Calculate the mode (most common) value for 'days_to_add'\n",
    "mode_days_to_add = df1['days_to_add'].mode().iloc[0]\n",
    "\n",
    "print(f\"The most common time duration between release and addition to Netflix is approximately {mode_days_to_add} days.\")"
   ]
  },
  {
   "cell_type": "code",
   "execution_count": 171,
   "id": "ae04b261",
   "metadata": {},
   "outputs": [
    {
     "data": {
      "image/png": "[encoded data removed]",
      "text/plain": [
       "<Figure size 1000x600 with 1 Axes>"
      ]
     },
     "metadata": {},
     "output_type": "display_data"
    }
   ],
   "source": [
    "# 1.For continuous variable(s): Distplot, countplot, histogram for univariate analysis\n",
    "\n",
    "# Distplot for 'release_year'\n",
    "\n",
    "# Create a distribution plot for rating\n",
    "plt.figure(figsize=(10,6))\n",
    "sns.set(style=\"darkgrid\") #set the plot style\n",
    "sns.distplot(df1['release_year'],bins=10,kde=False,color='red')\n",
    "# add lebels and a title\n",
    "plt.xlabel('Release_year')\n",
    "plt.ylabel('Count')\n",
    "plt.title('Distribution plot for  Netflix Dataset')\n",
    "# show the plot\n",
    "plt.show()"
   ]
  },
  {
   "cell_type": "code",
   "execution_count": 173,
   "id": "a4f9a145",
   "metadata": {},
   "outputs": [
    {
     "data": {
      "image/png": "[encoded data removed]",
      "text/plain": [
       "<Figure size 2000x1200 with 1 Axes>"
      ]
     },
     "metadata": {},
     "output_type": "display_data"
    }
   ],
   "source": [
    "# for countplot\n",
    "\n",
    "# Create a count plot for the \"genre\" column\n",
    "sns.set(style=\"whitegrid\") #set the style for the plot\n",
    "plt.figure(figsize=(20,12)) #set the figure size \n",
    "# Assuming 'Genre'is the name of the categorical variable\n",
    "sns.countplot(data=small_df,x='release_year',hue='type')\n",
    "# add lebel and a title\n",
    "plt.xlabel('Release_Year')\n",
    "plt.ylabel('Count')\n",
    "plt.title('Counts of Movies and TV Shows release by year ')\n",
    "plt.legend(title='Type',loc='upper left',labels=['Movie','TV Show'])\n",
    "# Rotate x-axis labels for better readability\n",
    "plt.xticks(rotation=45)\n",
    "# show the plot\n",
    "plt.show()\n",
    "\n"
   ]
  },
  {
   "cell_type": "code",
   "execution_count": 176,
   "id": "66f256f8",
   "metadata": {},
   "outputs": [
    {
     "data": {
      "image/png": "[encoded data removed]",
      "text/plain": [
       "<Figure size 1200x600 with 1 Axes>"
      ]
     },
     "metadata": {},
     "output_type": "display_data"
    }
   ],
   "source": [
    "# Histogram for days_to_add \n",
    "plt.figure(figsize=(12, 6))\n",
    "sns.histplot(df1['days_to_add'], bins=30,edgecolor='k')\n",
    "plt.title('Histogram of Days to Add to Netflix')\n",
    "plt.xlabel('Days to Add to Netflix')\n",
    "plt.ylabel('Count')\n",
    "plt.grid(True)\n",
    "plt.show()\n"
   ]
  },
  {
   "cell_type": "code",
   "execution_count": 177,
   "id": "d2b97661",
   "metadata": {},
   "outputs": [
    {
     "data": {
      "image/png": "[encoded data removed]",
      "text/plain": [
       "<Figure size 1200x600 with 1 Axes>"
      ]
     },
     "metadata": {},
     "output_type": "display_data"
    }
   ],
   "source": [
    "# Boxplot for Categorical Variables\n",
    "plt.figure(figsize=(12,6))\n",
    "sns.boxplot(data=df1,x='rating',y='release_year')\n",
    "plt.title('BoxPlot of release_year to netflix by Rating')\n",
    "plt.xlabel('Ratings')\n",
    "plt.ylabel('Release_Year')\n",
    "plt.xticks(rotation=45) \n",
    "plt.show()"
   ]
  },
  {
   "cell_type": "code",
   "execution_count": 178,
   "id": "f838c486",
   "metadata": {},
   "outputs": [
    {
     "data": {
      "image/png": "[encoded data removed]",
      "text/plain": [
       "<Figure size 1000x800 with 2 Axes>"
      ]
     },
     "metadata": {},
     "output_type": "display_data"
    }
   ],
   "source": [
    "# Correlation Analysis\n",
    "# Calculate the correlation matrix\n",
    "correlation_matrix=df1.corr()\n",
    "# Heatmap to visualize the correlations\n",
    "plt.figure(figsize=(10,8))\n",
    "sns.heatmap(correlation_matrix,annot=True,cmap='coolwarm',linewidths=0.5)\n",
    "plt.title('Correlation Heatmap')\n",
    "plt.show()"
   ]
  },
  {
   "cell_type": "markdown",
   "id": "754200d5",
   "metadata": {},
   "source": [
    "- Pair plot - It creates a grid of plots showing how each variable in the dataset relates to every other variable.\n",
    "- Explore relationships between multiple numerical variables.\n",
    "- Visualize distributions of individual variables."
   ]
  },
  {
   "cell_type": "code",
   "execution_count": 179,
   "id": "185c94ea",
   "metadata": {},
   "outputs": [
    {
     "data": {
      "image/png": "[encoded data removed]",
      "text/plain": [
       "<Figure size 250x250 with 2 Axes>"
      ]
     },
     "metadata": {},
     "output_type": "display_data"
    }
   ],
   "source": [
    "# Pairplot for selected numeric columns\n",
    "import seaborn as sns\n",
    "numeric_cols=['release_year','date_added']\n",
    "sns.pairplot(df1[numeric_cols],diag_kind='kde')\n",
    "plt.show()"
   ]
  },
  {
   "cell_type": "code",
   "execution_count": 180,
   "id": "333ef31b",
   "metadata": {},
   "outputs": [
    {
     "data": {
      "image/png": "[encoded data removed]",
      "text/plain": [
       "<Figure size 800x400 with 1 Axes>"
      ]
     },
     "metadata": {},
     "output_type": "display_data"
    }
   ],
   "source": [
    "# Check for Outlier\n",
    "plt.figure(figsize=(8,4))\n",
    "sns.boxplot(x='release_year',data=df1)\n",
    "plt.title('Boxplot for release_year')\n",
    "plt.show()"
   ]
  },
  {
   "cell_type": "code",
   "execution_count": 184,
   "id": "e86bf023",
   "metadata": {},
   "outputs": [
    {
     "data": {
      "image/png": "[encoded data removed]",
      "text/plain": [
       "<Figure size 640x480 with 1 Axes>"
      ]
     },
     "metadata": {},
     "output_type": "display_data"
    }
   ],
   "source": [
    "sns.countplot(x='rating',data=df1,order=df1['rating'].value_counts().index)\n",
    "plt.title('Distribution of content Rating')\n",
    "plt.xlabel('content rating')\n",
    "plt.ylabel('count')\n",
    "plt.xticks(rotation=45)\n",
    "plt.show()"
   ]
  },
  {
   "cell_type": "code",
   "execution_count": 185,
   "id": "877e724b",
   "metadata": {},
   "outputs": [
    {
     "data": {
      "image/png": "[encoded data removed]",
      "text/plain": [
       "<Figure size 800x400 with 1 Axes>"
      ]
     },
     "metadata": {},
     "output_type": "display_data"
    }
   ],
   "source": [
    "# Distribution of Content Type(Movies vs show)\n",
    "plt.figure(figsize=(8,4))\n",
    "sns.countplot(x='type',data=df1)\n",
    "plt.title('Distribution of content type(movies vs  Tv show)')\n",
    "plt.xlabel('Content Type')\n",
    "plt.ylabel('count')\n",
    "plt.show()"
   ]
  },
  {
   "cell_type": "code",
   "execution_count": 186,
   "id": "9b21df82",
   "metadata": {},
   "outputs": [
    {
     "data": {
      "image/png": "[encoded data removed]",
      "text/plain": [
       "<Figure size 1000x600 with 1 Axes>"
      ]
     },
     "metadata": {},
     "output_type": "display_data"
    }
   ],
   "source": [
    "# Content Type and release year\n",
    "plt.figure(figsize=(10,6))\n",
    "sns.boxplot(x='type',y='release_year',data=df1)\n",
    "plt.title('Distribution of Release year by content type')\n",
    "plt.xlabel('Content Type')\n",
    "plt.ylabel('Release year')\n",
    "plt.show()"
   ]
  },
  {
   "cell_type": "code",
   "execution_count": 187,
   "id": "d61db50f",
   "metadata": {},
   "outputs": [
    {
     "data": {
      "image/png": "[encoded data removed]",
      "text/plain": [
       "<Figure size 1200x600 with 1 Axes>"
      ]
     },
     "metadata": {},
     "output_type": "display_data"
    }
   ],
   "source": [
    "plt.figure(figsize=(12,6))\n",
    "sns.histplot(x='release_year',bins=30,kde=True,data=df1)\n",
    "plt.title('Distribution of Release year')\n",
    "plt.xlabel('Release year')\n",
    "plt.ylabel('count')\n",
    "plt.show()"
   ]
  },
  {
   "cell_type": "markdown",
   "id": "21460819",
   "metadata": {},
   "source": [
    " ### <font color='purple'>6. Insights based on Non-Graphical and Visual Analysis </font>\n",
    "- 1 Comments on the range of attributes\n",
    "\n",
    "- 2 Comments on the distribution of the variables and relationship between them\n",
    "\n",
    "- 3 Comments for each univariate and bivariate plot"
   ]
  },
  {
   "cell_type": "code",
   "execution_count": 189,
   "id": "11473942",
   "metadata": {},
   "outputs": [],
   "source": [
    "# Comments on the range of attributes date_added $ release_year\n",
    "\n",
    "# For the date_added attributes:\n",
    "# extract the minimum and maximum dates\n",
    "min_date=df1['date_added'].min()\n",
    "max_date=df1['date_added'].max()"
   ]
  },
  {
   "cell_type": "code",
   "execution_count": 190,
   "id": "bcb53a8e",
   "metadata": {},
   "outputs": [
    {
     "name": "stdout",
     "output_type": "stream",
     "text": [
      "Minimum Date: 1900-01-01 00:00:00\n",
      "Maximum Date: 2021-09-25 00:00:00\n"
     ]
    }
   ],
   "source": [
    "# Print the result\n",
    "print('Minimum Date:',min_date)\n",
    "print('Maximum Date:',max_date)\n"
   ]
  },
  {
   "cell_type": "code",
   "execution_count": 191,
   "id": "116d7008",
   "metadata": {},
   "outputs": [],
   "source": [
    "# Find the minimum and maximum years\n",
    "min_year=df1['release_year'].min()\n",
    "max_year=df1['release_year'].max()\n"
   ]
  },
  {
   "cell_type": "code",
   "execution_count": 192,
   "id": "6e477c4d",
   "metadata": {},
   "outputs": [
    {
     "name": "stdout",
     "output_type": "stream",
     "text": [
      "Minimum year: 1925\n",
      "Maximum year: 2021\n"
     ]
    }
   ],
   "source": [
    "# Print the results\n",
    "print(\"Minimum year:\", min_year)\n",
    "print(\"Maximum year:\", max_year)"
   ]
  },
  {
   "cell_type": "code",
   "execution_count": 193,
   "id": "b5620410",
   "metadata": {},
   "outputs": [],
   "source": [
    "# 2 Comments on the distribution of the variables and relationship between them\n"
   ]
  },
  {
   "cell_type": "code",
   "execution_count": 194,
   "id": "43288235",
   "metadata": {},
   "outputs": [
    {
     "data": {
      "text/plain": [
       "count      8807\n",
       "unique       18\n",
       "top       TV-MA\n",
       "freq       3207\n",
       "Name: rating, dtype: object"
      ]
     },
     "execution_count": 194,
     "metadata": {},
     "output_type": "execute_result"
    }
   ],
   "source": [
    "# for rating_distribution\n",
    "ratings_distribution=df1['rating'].describe()\n",
    "ratings_distribution"
   ]
  },
  {
   "cell_type": "code",
   "execution_count": 195,
   "id": "4ebfeacb",
   "metadata": {},
   "outputs": [
    {
     "data": {
      "text/plain": [
       "1925       1\n",
       "1942       2\n",
       "1943       3\n",
       "1944       3\n",
       "1945       4\n",
       "        ... \n",
       "2017    1032\n",
       "2018    1147\n",
       "2019    1030\n",
       "2020     953\n",
       "2021     592\n",
       "Name: release_year, Length: 74, dtype: int64"
      ]
     },
     "execution_count": 195,
     "metadata": {},
     "output_type": "execute_result"
    }
   ],
   "source": [
    "# For release_year distribution\n",
    "\n",
    "release_year_distribution=df1['release_year'].value_counts().sort_index()\n",
    "release_year_distribution"
   ]
  },
  {
   "cell_type": "code",
   "execution_count": 204,
   "id": "660cf9c6",
   "metadata": {},
   "outputs": [
    {
     "data": {
      "text/plain": [
       "United States      42002\n",
       "India              21372\n",
       "Unknown country    11897\n",
       "Japan               7026\n",
       "United Kingdom      5353\n",
       "South Korea         4306\n",
       "Name: country, dtype: int64"
      ]
     },
     "execution_count": 204,
     "metadata": {},
     "output_type": "execute_result"
    }
   ],
   "source": [
    "df[\"country\"].value_counts().sort_values(ascending = False).head(6)"
   ]
  },
  {
   "cell_type": "code",
   "execution_count": 214,
   "id": "5ef9aef7",
   "metadata": {},
   "outputs": [],
   "source": [
    "df[\"Listed_split\"] = df[\"listed_in\"].str.split(\", \")"
   ]
  },
  {
   "cell_type": "code",
   "execution_count": 219,
   "id": "641c00c8",
   "metadata": {},
   "outputs": [
    {
     "data": {
      "text/plain": [
       "Dramas                    75504\n",
       "International Movies      75053\n",
       "Comedies                  50256\n",
       "International TV Shows    35356\n",
       "Action & Adventure        28296\n",
       "Independent Movies        27096\n",
       "TV Dramas                 23356\n",
       "Name: Listed_split, dtype: int64"
      ]
     },
     "execution_count": 219,
     "metadata": {},
     "output_type": "execute_result"
    }
   ],
   "source": [
    "df[\"Listed_split\"].explode().value_counts().head(7)"
   ]
  },
  {
   "cell_type": "markdown",
   "id": "57484be5",
   "metadata": {},
   "source": [
    " ### <font color='purple'>7. Business Insights - Should include patterns observed in the data along with what you can infer from it </font>\n"
   ]
  },
  {
   "cell_type": "markdown",
   "id": "5a2f3c44",
   "metadata": {},
   "source": [
    "- 1. Netflix has two primary content types — Movies and TV Shows. Typically, Movies make up around 65–70% of the catalog, while TV Shows comprise the rest.\n",
    "- 2. Most content has been added after 2015, especially a large spike around 2018–2021.The release year and date added don’t always match — many shows were released earlier but added later.\n",
    "- 3. Top contributing countries are United States, India, United Kingdom, Japan, and South Korea.\n",
    "- 4. Top contributing countries are United States, India, United Kingdom, Japan, and South Korea.\n",
    "- 5. Most titles fall under TV-MA, TV-14, and R ratings — indicating mature audiences dominate the platform.\n",
    "- 6. Common genres include Dramas, International Movies, Comedies, International TV Shows.\n",
    "- 7. Movies: Average runtime ~90 minutes, TV Shows: Most have 1–3 seasons.\n",
    "- 8. The number of titles added increased sharply around 2019–2020, possibly due to global lockdowns."
   ]
  },
  {
   "cell_type": "markdown",
   "id": "5b77a6f7",
   "metadata": {},
   "source": [
    "### <font color = \"purple\" > 8. Recommendations - Actionable items for business. No technical jargon. No complications. Simple action items that everyone can understand </font>"
   ]
  },
  {
   "cell_type": "markdown",
   "id": "67ce703b",
   "metadata": {},
   "source": [
    "- 1. Most titles are rated for adults. Introduce more PG and G-rated shows to attract families and children.\n",
    "- 2. Invest in local language shows and movies from countries like India, Japan, and South Korea to grow regional subscriber bases.\n",
    "- 3. Create short, quick-watch episodes or mini-movies to keep users engaged during breaks or commutes.\n",
    "- 4. Documentaries are popular — continue producing more true-crime, nature, and social issue documentaries.\n",
    "- 5. Collaborate with regional directors and production houses to bring diverse, authentic stories.\n",
    "- 6. Ensure every show has director, cast, and country details for better recommendations and user trust.\n",
    "- 7. Regularly review viewing data to understand changing audience interests and adjust the content plan accordingly."
   ]
  },
  {
   "cell_type": "code",
   "execution_count": null,
   "id": "020344f9",
   "metadata": {},
   "outputs": [],
   "source": []
  }
 ],
 "metadata": {
  "celltoolbar": "Raw Cell Format",
  "kernelspec": {
   "display_name": "Python 3 (ipykernel)",
   "language": "python",
   "name": "python3"
  },
  "language_info": {
   "codemirror_mode": {
    "name": "ipython",
    "version": 3
   },
   "file_extension": ".py",
   "mimetype": "text/x-python",
   "name": "python",
   "nbconvert_exporter": "python",
   "pygments_lexer": "ipython3",
   "version": "3.10.9"
  }
 },
 "nbformat": 4,
 "nbformat_minor": 5
}
