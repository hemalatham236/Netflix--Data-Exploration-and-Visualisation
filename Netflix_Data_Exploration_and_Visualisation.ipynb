{
 "cells": [
  {
   "cell_type": "code",
   "execution_count": 3,
   "id": "4aac72c3",
   "metadata": {},
   "outputs": [],
   "source": [
    "import numpy as np\n",
    "import pandas as pd\n",
    "import matplotlib.pyplot as plt\n",
    "import seaborn as sns"
   ]
  },
  {
   "cell_type": "code",
   "execution_count": 4,
   "id": "acaa874c",
   "metadata": {},
   "outputs": [],
   "source": [
    "df = pd.read_csv(\"netflix.csv\")"
   ]
  },
  {
   "cell_type": "code",
   "execution_count": 5,
   "id": "cba54a90",
   "metadata": {},
   "outputs": [
    {
     "data": {
      "text/html": [
       "<div>\n",
       "<style scoped>\n",
       "    .dataframe tbody tr th:only-of-type {\n",
       "        vertical-align: middle;\n",
       "    }\n",
       "\n",
       "    .dataframe tbody tr th {\n",
       "        vertical-align: top;\n",
       "    }\n",
       "\n",
       "    .dataframe thead th {\n",
       "        text-align: right;\n",
       "    }\n",
       "</style>\n",
       "<table border=\"1\" class=\"dataframe\">\n",
       "  <thead>\n",
       "    <tr style=\"text-align: right;\">\n",
       "      <th></th>\n",
       "      <th>show_id</th>\n",
       "      <th>type</th>\n",
       "      <th>title</th>\n",
       "      <th>director</th>\n",
       "      <th>cast</th>\n",
       "      <th>country</th>\n",
       "      <th>date_added</th>\n",
       "      <th>release_year</th>\n",
       "      <th>rating</th>\n",
       "      <th>duration</th>\n",
       "      <th>listed_in</th>\n",
       "      <th>description</th>\n",
       "    </tr>\n",
       "  </thead>\n",
       "  <tbody>\n",
       "    <tr>\n",
       "      <th>0</th>\n",
       "      <td>s1</td>\n",
       "      <td>Movie</td>\n",
       "      <td>Dick Johnson Is Dead</td>\n",
       "      <td>Kirsten Johnson</td>\n",
       "      <td>NaN</td>\n",
       "      <td>United States</td>\n",
       "      <td>September 25, 2021</td>\n",
       "      <td>2020</td>\n",
       "      <td>PG-13</td>\n",
       "      <td>90 min</td>\n",
       "      <td>Documentaries</td>\n",
       "      <td>As her father nears the end of his life, filmm...</td>\n",
       "    </tr>\n",
       "    <tr>\n",
       "      <th>1</th>\n",
       "      <td>s2</td>\n",
       "      <td>TV Show</td>\n",
       "      <td>Blood &amp; Water</td>\n",
       "      <td>NaN</td>\n",
       "      <td>Ama Qamata, Khosi Ngema, Gail Mabalane, Thaban...</td>\n",
       "      <td>South Africa</td>\n",
       "      <td>September 24, 2021</td>\n",
       "      <td>2021</td>\n",
       "      <td>TV-MA</td>\n",
       "      <td>2 Seasons</td>\n",
       "      <td>International TV Shows, TV Dramas, TV Mysteries</td>\n",
       "      <td>After crossing paths at a party, a Cape Town t...</td>\n",
       "    </tr>\n",
       "    <tr>\n",
       "      <th>2</th>\n",
       "      <td>s3</td>\n",
       "      <td>TV Show</td>\n",
       "      <td>Ganglands</td>\n",
       "      <td>Julien Leclercq</td>\n",
       "      <td>Sami Bouajila, Tracy Gotoas, Samuel Jouy, Nabi...</td>\n",
       "      <td>NaN</td>\n",
       "      <td>September 24, 2021</td>\n",
       "      <td>2021</td>\n",
       "      <td>TV-MA</td>\n",
       "      <td>1 Season</td>\n",
       "      <td>Crime TV Shows, International TV Shows, TV Act...</td>\n",
       "      <td>To protect his family from a powerful drug lor...</td>\n",
       "    </tr>\n",
       "  </tbody>\n",
       "</table>\n",
       "</div>"
      ],
      "text/plain": [
       "  show_id     type                 title         director  \\\n",
       "0      s1    Movie  Dick Johnson Is Dead  Kirsten Johnson   \n",
       "1      s2  TV Show         Blood & Water              NaN   \n",
       "2      s3  TV Show             Ganglands  Julien Leclercq   \n",
       "\n",
       "                                                cast        country  \\\n",
       "0                                                NaN  United States   \n",
       "1  Ama Qamata, Khosi Ngema, Gail Mabalane, Thaban...   South Africa   \n",
       "2  Sami Bouajila, Tracy Gotoas, Samuel Jouy, Nabi...            NaN   \n",
       "\n",
       "           date_added  release_year rating   duration  \\\n",
       "0  September 25, 2021          2020  PG-13     90 min   \n",
       "1  September 24, 2021          2021  TV-MA  2 Seasons   \n",
       "2  September 24, 2021          2021  TV-MA   1 Season   \n",
       "\n",
       "                                           listed_in  \\\n",
       "0                                      Documentaries   \n",
       "1    International TV Shows, TV Dramas, TV Mysteries   \n",
       "2  Crime TV Shows, International TV Shows, TV Act...   \n",
       "\n",
       "                                         description  \n",
       "0  As her father nears the end of his life, filmm...  \n",
       "1  After crossing paths at a party, a Cape Town t...  \n",
       "2  To protect his family from a powerful drug lor...  "
      ]
     },
     "execution_count": 5,
     "metadata": {},
     "output_type": "execute_result"
    }
   ],
   "source": [
    "df.head(3)"
   ]
  },
  {
   "cell_type": "markdown",
   "id": "d2aedcca",
   "metadata": {},
   "source": [
    "### <font color='purple'>1. Defining Problem Statement and Analysing basic metrics</font>"
   ]
  },
  {
   "cell_type": "markdown",
   "id": "48d1f7a8",
   "metadata": {},
   "source": [
    "1. **Problem Statement**\n",
    "  - Analyze the netflix dataset to provide data-driven recommendation on the type of content (movies or TV shows)to produce.\n",
    "  - Explore how Netflix can expand and grow its business in different countries.\n",
    "2. **Basic metric Analysis**\n",
    "  - Data "
   ]
  },
  {
   "cell_type": "markdown",
   "id": "3fcc1312",
   "metadata": {},
   "source": [
    "### <font color='purple'>2. Observations on the shape of data, data types of all the attributes, conversion of categorical attributes to 'category' (If required), missing value detection, statistical summary </font>"
   ]
  },
  {
   "cell_type": "code",
   "execution_count": 6,
   "id": "0e2b536e",
   "metadata": {},
   "outputs": [
    {
     "name": "stdout",
     "output_type": "stream",
     "text": [
      "(8807, 12)\n",
      "Dataset contains 8807 rows and 12 columns\n"
     ]
    }
   ],
   "source": [
    "print(df.shape)\n",
    "print(f\"Dataset contains {df.shape[0]} rows and {df.shape[1]} columns\")"
   ]
  },
  {
   "cell_type": "code",
   "execution_count": 7,
   "id": "13b05003",
   "metadata": {},
   "outputs": [
    {
     "name": "stdout",
     "output_type": "stream",
     "text": [
      "Data types of Attribute: \n",
      "show_id         object\n",
      "type            object\n",
      "title           object\n",
      "director        object\n",
      "cast            object\n",
      "country         object\n",
      "date_added      object\n",
      "release_year     int64\n",
      "rating          object\n",
      "duration        object\n",
      "listed_in       object\n",
      "description     object\n",
      "dtype: object\n"
     ]
    }
   ],
   "source": [
    "print(\"Data types of Attribute: \")\n",
    "\n",
    "print(df.dtypes)"
   ]
  },
  {
   "cell_type": "code",
   "execution_count": 8,
   "id": "33e4f7e1",
   "metadata": {},
   "outputs": [
    {
     "data": {
      "text/plain": [
       "Index(['show_id', 'type', 'title', 'director', 'cast', 'country', 'date_added',\n",
       "       'release_year', 'rating', 'duration', 'listed_in', 'description'],\n",
       "      dtype='object')"
      ]
     },
     "execution_count": 8,
     "metadata": {},
     "output_type": "execute_result"
    }
   ],
   "source": [
    "df.columns"
   ]
  },
  {
   "cell_type": "code",
   "execution_count": 9,
   "id": "616e6920",
   "metadata": {},
   "outputs": [
    {
     "data": {
      "text/plain": [
       "show_id            0\n",
       "type               0\n",
       "title              0\n",
       "director        2634\n",
       "cast             825\n",
       "country          831\n",
       "date_added        10\n",
       "release_year       0\n",
       "rating             4\n",
       "duration           3\n",
       "listed_in          0\n",
       "description        0\n",
       "dtype: int64"
      ]
     },
     "execution_count": 9,
     "metadata": {},
     "output_type": "execute_result"
    }
   ],
   "source": [
    "df.isnull().sum()"
   ]
  },
  {
   "cell_type": "markdown",
   "id": "f1be2265",
   "metadata": {},
   "source": [
    " **Statistical Summery**"
   ]
  },
  {
   "cell_type": "code",
   "execution_count": 10,
   "id": "9434756a",
   "metadata": {},
   "outputs": [
    {
     "data": {
      "text/html": [
       "<div>\n",
       "<style scoped>\n",
       "    .dataframe tbody tr th:only-of-type {\n",
       "        vertical-align: middle;\n",
       "    }\n",
       "\n",
       "    .dataframe tbody tr th {\n",
       "        vertical-align: top;\n",
       "    }\n",
       "\n",
       "    .dataframe thead th {\n",
       "        text-align: right;\n",
       "    }\n",
       "</style>\n",
       "<table border=\"1\" class=\"dataframe\">\n",
       "  <thead>\n",
       "    <tr style=\"text-align: right;\">\n",
       "      <th></th>\n",
       "      <th>release_year</th>\n",
       "    </tr>\n",
       "  </thead>\n",
       "  <tbody>\n",
       "    <tr>\n",
       "      <th>count</th>\n",
       "      <td>8807.000000</td>\n",
       "    </tr>\n",
       "    <tr>\n",
       "      <th>mean</th>\n",
       "      <td>2014.180198</td>\n",
       "    </tr>\n",
       "    <tr>\n",
       "      <th>std</th>\n",
       "      <td>8.819312</td>\n",
       "    </tr>\n",
       "    <tr>\n",
       "      <th>min</th>\n",
       "      <td>1925.000000</td>\n",
       "    </tr>\n",
       "    <tr>\n",
       "      <th>25%</th>\n",
       "      <td>2013.000000</td>\n",
       "    </tr>\n",
       "    <tr>\n",
       "      <th>50%</th>\n",
       "      <td>2017.000000</td>\n",
       "    </tr>\n",
       "    <tr>\n",
       "      <th>75%</th>\n",
       "      <td>2019.000000</td>\n",
       "    </tr>\n",
       "    <tr>\n",
       "      <th>max</th>\n",
       "      <td>2021.000000</td>\n",
       "    </tr>\n",
       "  </tbody>\n",
       "</table>\n",
       "</div>"
      ],
      "text/plain": [
       "       release_year\n",
       "count   8807.000000\n",
       "mean    2014.180198\n",
       "std        8.819312\n",
       "min     1925.000000\n",
       "25%     2013.000000\n",
       "50%     2017.000000\n",
       "75%     2019.000000\n",
       "max     2021.000000"
      ]
     },
     "execution_count": 10,
     "metadata": {},
     "output_type": "execute_result"
    }
   ],
   "source": [
    "df.describe()"
   ]
  },
  {
   "cell_type": "code",
   "execution_count": 11,
   "id": "1dcd030f",
   "metadata": {},
   "outputs": [
    {
     "data": {
      "text/html": [
       "<div>\n",
       "<style scoped>\n",
       "    .dataframe tbody tr th:only-of-type {\n",
       "        vertical-align: middle;\n",
       "    }\n",
       "\n",
       "    .dataframe tbody tr th {\n",
       "        vertical-align: top;\n",
       "    }\n",
       "\n",
       "    .dataframe thead th {\n",
       "        text-align: right;\n",
       "    }\n",
       "</style>\n",
       "<table border=\"1\" class=\"dataframe\">\n",
       "  <thead>\n",
       "    <tr style=\"text-align: right;\">\n",
       "      <th></th>\n",
       "      <th>show_id</th>\n",
       "      <th>type</th>\n",
       "      <th>title</th>\n",
       "      <th>director</th>\n",
       "      <th>cast</th>\n",
       "      <th>country</th>\n",
       "      <th>date_added</th>\n",
       "      <th>rating</th>\n",
       "      <th>duration</th>\n",
       "      <th>listed_in</th>\n",
       "      <th>description</th>\n",
       "    </tr>\n",
       "  </thead>\n",
       "  <tbody>\n",
       "    <tr>\n",
       "      <th>count</th>\n",
       "      <td>8807</td>\n",
       "      <td>8807</td>\n",
       "      <td>8807</td>\n",
       "      <td>6173</td>\n",
       "      <td>7982</td>\n",
       "      <td>7976</td>\n",
       "      <td>8797</td>\n",
       "      <td>8803</td>\n",
       "      <td>8804</td>\n",
       "      <td>8807</td>\n",
       "      <td>8807</td>\n",
       "    </tr>\n",
       "    <tr>\n",
       "      <th>unique</th>\n",
       "      <td>8807</td>\n",
       "      <td>2</td>\n",
       "      <td>8807</td>\n",
       "      <td>4528</td>\n",
       "      <td>7692</td>\n",
       "      <td>748</td>\n",
       "      <td>1767</td>\n",
       "      <td>17</td>\n",
       "      <td>220</td>\n",
       "      <td>514</td>\n",
       "      <td>8775</td>\n",
       "    </tr>\n",
       "    <tr>\n",
       "      <th>top</th>\n",
       "      <td>s1</td>\n",
       "      <td>Movie</td>\n",
       "      <td>Dick Johnson Is Dead</td>\n",
       "      <td>Rajiv Chilaka</td>\n",
       "      <td>David Attenborough</td>\n",
       "      <td>United States</td>\n",
       "      <td>January 1, 2020</td>\n",
       "      <td>TV-MA</td>\n",
       "      <td>1 Season</td>\n",
       "      <td>Dramas, International Movies</td>\n",
       "      <td>Paranormal activity at a lush, abandoned prope...</td>\n",
       "    </tr>\n",
       "    <tr>\n",
       "      <th>freq</th>\n",
       "      <td>1</td>\n",
       "      <td>6131</td>\n",
       "      <td>1</td>\n",
       "      <td>19</td>\n",
       "      <td>19</td>\n",
       "      <td>2818</td>\n",
       "      <td>109</td>\n",
       "      <td>3207</td>\n",
       "      <td>1793</td>\n",
       "      <td>362</td>\n",
       "      <td>4</td>\n",
       "    </tr>\n",
       "  </tbody>\n",
       "</table>\n",
       "</div>"
      ],
      "text/plain": [
       "       show_id   type                 title       director  \\\n",
       "count     8807   8807                  8807           6173   \n",
       "unique    8807      2                  8807           4528   \n",
       "top         s1  Movie  Dick Johnson Is Dead  Rajiv Chilaka   \n",
       "freq         1   6131                     1             19   \n",
       "\n",
       "                      cast        country       date_added rating  duration  \\\n",
       "count                 7982           7976             8797   8803      8804   \n",
       "unique                7692            748             1767     17       220   \n",
       "top     David Attenborough  United States  January 1, 2020  TV-MA  1 Season   \n",
       "freq                    19           2818              109   3207      1793   \n",
       "\n",
       "                           listed_in  \\\n",
       "count                           8807   \n",
       "unique                           514   \n",
       "top     Dramas, International Movies   \n",
       "freq                             362   \n",
       "\n",
       "                                              description  \n",
       "count                                                8807  \n",
       "unique                                               8775  \n",
       "top     Paranormal activity at a lush, abandoned prope...  \n",
       "freq                                                    4  "
      ]
     },
     "execution_count": 11,
     "metadata": {},
     "output_type": "execute_result"
    }
   ],
   "source": [
    "df.describe(include = \"object\")"
   ]
  },
  {
   "cell_type": "markdown",
   "id": "5baf25ba",
   "metadata": {},
   "source": [
    "- **Missing Value Treatment**"
   ]
  },
  {
   "cell_type": "code",
   "execution_count": 12,
   "id": "85862ad5",
   "metadata": {},
   "outputs": [],
   "source": [
    "df_missing =  pd.DataFrame({\"Missing_values\": df.isnull().sum(), \"Percentage\": round(df.isnull().sum()/len(df)*100, 2)})"
   ]
  },
  {
   "cell_type": "code",
   "execution_count": 13,
   "id": "ecf1934e",
   "metadata": {},
   "outputs": [
    {
     "data": {
      "text/html": [
       "<div>\n",
       "<style scoped>\n",
       "    .dataframe tbody tr th:only-of-type {\n",
       "        vertical-align: middle;\n",
       "    }\n",
       "\n",
       "    .dataframe tbody tr th {\n",
       "        vertical-align: top;\n",
       "    }\n",
       "\n",
       "    .dataframe thead th {\n",
       "        text-align: right;\n",
       "    }\n",
       "</style>\n",
       "<table border=\"1\" class=\"dataframe\">\n",
       "  <thead>\n",
       "    <tr style=\"text-align: right;\">\n",
       "      <th></th>\n",
       "      <th>Missing_values</th>\n",
       "      <th>Percentage</th>\n",
       "    </tr>\n",
       "  </thead>\n",
       "  <tbody>\n",
       "    <tr>\n",
       "      <th>show_id</th>\n",
       "      <td>0</td>\n",
       "      <td>0.00</td>\n",
       "    </tr>\n",
       "    <tr>\n",
       "      <th>type</th>\n",
       "      <td>0</td>\n",
       "      <td>0.00</td>\n",
       "    </tr>\n",
       "    <tr>\n",
       "      <th>title</th>\n",
       "      <td>0</td>\n",
       "      <td>0.00</td>\n",
       "    </tr>\n",
       "    <tr>\n",
       "      <th>director</th>\n",
       "      <td>2634</td>\n",
       "      <td>29.91</td>\n",
       "    </tr>\n",
       "    <tr>\n",
       "      <th>cast</th>\n",
       "      <td>825</td>\n",
       "      <td>9.37</td>\n",
       "    </tr>\n",
       "    <tr>\n",
       "      <th>country</th>\n",
       "      <td>831</td>\n",
       "      <td>9.44</td>\n",
       "    </tr>\n",
       "    <tr>\n",
       "      <th>date_added</th>\n",
       "      <td>10</td>\n",
       "      <td>0.11</td>\n",
       "    </tr>\n",
       "    <tr>\n",
       "      <th>release_year</th>\n",
       "      <td>0</td>\n",
       "      <td>0.00</td>\n",
       "    </tr>\n",
       "    <tr>\n",
       "      <th>rating</th>\n",
       "      <td>4</td>\n",
       "      <td>0.05</td>\n",
       "    </tr>\n",
       "    <tr>\n",
       "      <th>duration</th>\n",
       "      <td>3</td>\n",
       "      <td>0.03</td>\n",
       "    </tr>\n",
       "    <tr>\n",
       "      <th>listed_in</th>\n",
       "      <td>0</td>\n",
       "      <td>0.00</td>\n",
       "    </tr>\n",
       "    <tr>\n",
       "      <th>description</th>\n",
       "      <td>0</td>\n",
       "      <td>0.00</td>\n",
       "    </tr>\n",
       "  </tbody>\n",
       "</table>\n",
       "</div>"
      ],
      "text/plain": [
       "              Missing_values  Percentage\n",
       "show_id                    0        0.00\n",
       "type                       0        0.00\n",
       "title                      0        0.00\n",
       "director                2634       29.91\n",
       "cast                     825        9.37\n",
       "country                  831        9.44\n",
       "date_added                10        0.11\n",
       "release_year               0        0.00\n",
       "rating                     4        0.05\n",
       "duration                   3        0.03\n",
       "listed_in                  0        0.00\n",
       "description                0        0.00"
      ]
     },
     "execution_count": 13,
     "metadata": {},
     "output_type": "execute_result"
    }
   ],
   "source": [
    "df_missing"
   ]
  },
  {
   "cell_type": "code",
   "execution_count": 14,
   "id": "ce7fcb23",
   "metadata": {},
   "outputs": [],
   "source": [
    "# fill null values with a specific values:\n",
    "df['director'].fillna(\"Unknown director\",inplace=True)\n",
    "df['cast'].fillna(\"Unknown cast\",inplace=True)\n",
    "df['country'].fillna(\"Unknown country\",inplace=True)\n",
    "df['date_added'].fillna(\"January 1,1900\",inplace=True)\n",
    "df['duration'].fillna(\"Unknown duration\",inplace=True)\n",
    "df['rating'].fillna(\"Unknown rating\",inplace=True)"
   ]
  },
  {
   "cell_type": "code",
   "execution_count": 15,
   "id": "4ce031ee",
   "metadata": {},
   "outputs": [
    {
     "data": {
      "text/plain": [
       "show_id         0\n",
       "type            0\n",
       "title           0\n",
       "director        0\n",
       "cast            0\n",
       "country         0\n",
       "date_added      0\n",
       "release_year    0\n",
       "rating          0\n",
       "duration        0\n",
       "listed_in       0\n",
       "description     0\n",
       "dtype: int64"
      ]
     },
     "execution_count": 15,
     "metadata": {},
     "output_type": "execute_result"
    }
   ],
   "source": [
    "df.isnull().sum()"
   ]
  },
  {
   "cell_type": "markdown",
   "id": "469b9c20",
   "metadata": {},
   "source": [
    "- When we converted categorical columns to category, internally stores them as integer codes instead of full strings.\n",
    "- Saves memory by encoding repeated strings as numbers.\n",
    "- Faster grouping, sorting, and aggregations.\n",
    "- Prevents invalid category values"
   ]
  },
  {
   "cell_type": "code",
   "execution_count": 16,
   "id": "1cb32ada",
   "metadata": {},
   "outputs": [],
   "source": [
    "df[\"type\"] = df[\"type\"].astype(\"category\")\n",
    "df[\"country\"] = df[\"country\"].astype(\"category\")\n",
    "df[\"rating\"] = df[\"rating\"].astype(\"category\")"
   ]
  },
  {
   "cell_type": "code",
   "execution_count": 17,
   "id": "366f5c41",
   "metadata": {},
   "outputs": [
    {
     "data": {
      "text/plain": [
       "show_id           object\n",
       "type            category\n",
       "title             object\n",
       "director          object\n",
       "cast              object\n",
       "country         category\n",
       "date_added        object\n",
       "release_year       int64\n",
       "rating          category\n",
       "duration          object\n",
       "listed_in         object\n",
       "description       object\n",
       "dtype: object"
      ]
     },
     "execution_count": 17,
     "metadata": {},
     "output_type": "execute_result"
    }
   ],
   "source": [
    "df.dtypes"
   ]
  },
  {
   "cell_type": "markdown",
   "id": "6043661f",
   "metadata": {},
   "source": [
    "### <font color='purple'>3. Non-Graphical Analysis: Value counts and unique attributes </font>"
   ]
  },
  {
   "cell_type": "code",
   "execution_count": 18,
   "id": "fde2342f",
   "metadata": {},
   "outputs": [
    {
     "data": {
      "text/plain": [
       "Index(['show_id', 'type', 'title', 'director', 'cast', 'country', 'date_added',\n",
       "       'release_year', 'rating', 'duration', 'listed_in', 'description'],\n",
       "      dtype='object')"
      ]
     },
     "execution_count": 18,
     "metadata": {},
     "output_type": "execute_result"
    }
   ],
   "source": [
    "df.columns"
   ]
  },
  {
   "cell_type": "code",
   "execution_count": 19,
   "id": "c91aab7f",
   "metadata": {},
   "outputs": [
    {
     "data": {
      "text/plain": [
       "Movie      6131\n",
       "TV Show    2676\n",
       "Name: type, dtype: int64"
      ]
     },
     "execution_count": 19,
     "metadata": {},
     "output_type": "execute_result"
    }
   ],
   "source": [
    "df[\"type\"].value_counts()"
   ]
  },
  {
   "cell_type": "code",
   "execution_count": 20,
   "id": "212187bb",
   "metadata": {},
   "outputs": [
    {
     "data": {
      "text/plain": [
       "United States      2818\n",
       "India               972\n",
       "Unknown country     831\n",
       "United Kingdom      419\n",
       "Japan               245\n",
       "Name: country, dtype: int64"
      ]
     },
     "execution_count": 20,
     "metadata": {},
     "output_type": "execute_result"
    }
   ],
   "source": [
    "df[\"country\"].value_counts().head()"
   ]
  },
  {
   "cell_type": "code",
   "execution_count": 21,
   "id": "fa049d8e",
   "metadata": {},
   "outputs": [
    {
     "data": {
      "text/plain": [
       "TV-MA             3207\n",
       "TV-14             2160\n",
       "TV-PG              863\n",
       "R                  799\n",
       "PG-13              490\n",
       "TV-Y7              334\n",
       "TV-Y               307\n",
       "PG                 287\n",
       "TV-G               220\n",
       "NR                  80\n",
       "G                   41\n",
       "TV-Y7-FV             6\n",
       "Unknown rating       4\n",
       "NC-17                3\n",
       "UR                   3\n",
       "74 min               1\n",
       "84 min               1\n",
       "66 min               1\n",
       "Name: rating, dtype: int64"
      ]
     },
     "execution_count": 21,
     "metadata": {},
     "output_type": "execute_result"
    }
   ],
   "source": [
    "df[\"rating\"].value_counts()"
   ]
  },
  {
   "cell_type": "code",
   "execution_count": 22,
   "id": "f7b769a2",
   "metadata": {},
   "outputs": [
    {
     "data": {
      "text/plain": [
       "Dramas, International Movies                          362\n",
       "Documentaries                                         359\n",
       "Stand-Up Comedy                                       334\n",
       "Comedies, Dramas, International Movies                274\n",
       "Dramas, Independent Movies, International Movies      252\n",
       "                                                     ... \n",
       "Kids' TV, TV Action & Adventure, TV Dramas              1\n",
       "TV Comedies, TV Dramas, TV Horror                       1\n",
       "Children & Family Movies, Comedies, LGBTQ Movies        1\n",
       "Kids' TV, Spanish-Language TV Shows, Teen TV Shows      1\n",
       "Cult Movies, Dramas, Thrillers                          1\n",
       "Name: listed_in, Length: 514, dtype: int64"
      ]
     },
     "execution_count": 22,
     "metadata": {},
     "output_type": "execute_result"
    }
   ],
   "source": [
    "df[\"listed_in\"].value_counts()"
   ]
  },
  {
   "cell_type": "code",
   "execution_count": 23,
   "id": "4ad2af71",
   "metadata": {},
   "outputs": [
    {
     "data": {
      "text/plain": [
       "2018    1147\n",
       "2017    1032\n",
       "2019    1030\n",
       "2020     953\n",
       "2016     902\n",
       "        ... \n",
       "1959       1\n",
       "1925       1\n",
       "1961       1\n",
       "1947       1\n",
       "1966       1\n",
       "Name: release_year, Length: 74, dtype: int64"
      ]
     },
     "execution_count": 23,
     "metadata": {},
     "output_type": "execute_result"
    }
   ],
   "source": [
    "df[\"release_year\"].value_counts()"
   ]
  },
  {
   "cell_type": "markdown",
   "id": "bdc4c778",
   "metadata": {},
   "source": [
    "### <font color='purple'>4. Visual Analysis - Univariate, Bivariate after pre-processing of the data </font>"
   ]
  },
  {
   "cell_type": "code",
   "execution_count": 24,
   "id": "79da942f",
   "metadata": {},
   "outputs": [],
   "source": [
    "df[\"cast_split\"] = df[\"cast\"].str.split(\", \")\n",
    "df = df.explode(\"cast_split\")\n",
    "df[\"director_split\"] = df[\"director\"].str.split(\", \")\n",
    "df = df.explode(\"director_split\")\n",
    "df[\"country_split\"] = df[\"country\"].str.split(\", \")\n",
    "df = df.explode(\"country_split\")\n",
    "df['listed_in_split'] = df['listed_in'].str.split(', ')\n",
    "df = df.explode('listed_in_split')"
   ]
  },
  {
   "cell_type": "code",
   "execution_count": 25,
   "id": "77dc0673",
   "metadata": {},
   "outputs": [
    {
     "data": {
      "text/plain": [
       "Index(['show_id', 'type', 'title', 'director', 'cast', 'country', 'date_added',\n",
       "       'release_year', 'rating', 'duration', 'listed_in', 'description',\n",
       "       'cast_split', 'director_split', 'country_split', 'listed_in_split'],\n",
       "      dtype='object')"
      ]
     },
     "execution_count": 25,
     "metadata": {},
     "output_type": "execute_result"
    }
   ],
   "source": [
    "df.columns"
   ]
  },
  {
   "cell_type": "code",
   "execution_count": 26,
   "id": "b84252c0",
   "metadata": {},
   "outputs": [
    {
     "data": {
      "text/html": [
       "<div>\n",
       "<style scoped>\n",
       "    .dataframe tbody tr th:only-of-type {\n",
       "        vertical-align: middle;\n",
       "    }\n",
       "\n",
       "    .dataframe tbody tr th {\n",
       "        vertical-align: top;\n",
       "    }\n",
       "\n",
       "    .dataframe thead th {\n",
       "        text-align: right;\n",
       "    }\n",
       "</style>\n",
       "<table border=\"1\" class=\"dataframe\">\n",
       "  <thead>\n",
       "    <tr style=\"text-align: right;\">\n",
       "      <th></th>\n",
       "      <th>show_id</th>\n",
       "      <th>type</th>\n",
       "      <th>title</th>\n",
       "      <th>director</th>\n",
       "      <th>cast</th>\n",
       "      <th>country</th>\n",
       "      <th>date_added</th>\n",
       "      <th>release_year</th>\n",
       "      <th>rating</th>\n",
       "      <th>duration</th>\n",
       "      <th>listed_in</th>\n",
       "      <th>description</th>\n",
       "      <th>cast_split</th>\n",
       "      <th>director_split</th>\n",
       "      <th>country_split</th>\n",
       "      <th>listed_in_split</th>\n",
       "    </tr>\n",
       "  </thead>\n",
       "  <tbody>\n",
       "    <tr>\n",
       "      <th>0</th>\n",
       "      <td>s1</td>\n",
       "      <td>Movie</td>\n",
       "      <td>Dick Johnson Is Dead</td>\n",
       "      <td>Kirsten Johnson</td>\n",
       "      <td>Unknown cast</td>\n",
       "      <td>United States</td>\n",
       "      <td>September 25, 2021</td>\n",
       "      <td>2020</td>\n",
       "      <td>PG-13</td>\n",
       "      <td>90 min</td>\n",
       "      <td>Documentaries</td>\n",
       "      <td>As her father nears the end of his life, filmm...</td>\n",
       "      <td>Unknown cast</td>\n",
       "      <td>Kirsten Johnson</td>\n",
       "      <td>United States</td>\n",
       "      <td>Documentaries</td>\n",
       "    </tr>\n",
       "    <tr>\n",
       "      <th>1</th>\n",
       "      <td>s2</td>\n",
       "      <td>TV Show</td>\n",
       "      <td>Blood &amp; Water</td>\n",
       "      <td>Unknown director</td>\n",
       "      <td>Ama Qamata, Khosi Ngema, Gail Mabalane, Thaban...</td>\n",
       "      <td>South Africa</td>\n",
       "      <td>September 24, 2021</td>\n",
       "      <td>2021</td>\n",
       "      <td>TV-MA</td>\n",
       "      <td>2 Seasons</td>\n",
       "      <td>International TV Shows, TV Dramas, TV Mysteries</td>\n",
       "      <td>After crossing paths at a party, a Cape Town t...</td>\n",
       "      <td>Ama Qamata</td>\n",
       "      <td>Unknown director</td>\n",
       "      <td>South Africa</td>\n",
       "      <td>International TV Shows</td>\n",
       "    </tr>\n",
       "    <tr>\n",
       "      <th>1</th>\n",
       "      <td>s2</td>\n",
       "      <td>TV Show</td>\n",
       "      <td>Blood &amp; Water</td>\n",
       "      <td>Unknown director</td>\n",
       "      <td>Ama Qamata, Khosi Ngema, Gail Mabalane, Thaban...</td>\n",
       "      <td>South Africa</td>\n",
       "      <td>September 24, 2021</td>\n",
       "      <td>2021</td>\n",
       "      <td>TV-MA</td>\n",
       "      <td>2 Seasons</td>\n",
       "      <td>International TV Shows, TV Dramas, TV Mysteries</td>\n",
       "      <td>After crossing paths at a party, a Cape Town t...</td>\n",
       "      <td>Ama Qamata</td>\n",
       "      <td>Unknown director</td>\n",
       "      <td>South Africa</td>\n",
       "      <td>TV Dramas</td>\n",
       "    </tr>\n",
       "    <tr>\n",
       "      <th>1</th>\n",
       "      <td>s2</td>\n",
       "      <td>TV Show</td>\n",
       "      <td>Blood &amp; Water</td>\n",
       "      <td>Unknown director</td>\n",
       "      <td>Ama Qamata, Khosi Ngema, Gail Mabalane, Thaban...</td>\n",
       "      <td>South Africa</td>\n",
       "      <td>September 24, 2021</td>\n",
       "      <td>2021</td>\n",
       "      <td>TV-MA</td>\n",
       "      <td>2 Seasons</td>\n",
       "      <td>International TV Shows, TV Dramas, TV Mysteries</td>\n",
       "      <td>After crossing paths at a party, a Cape Town t...</td>\n",
       "      <td>Ama Qamata</td>\n",
       "      <td>Unknown director</td>\n",
       "      <td>South Africa</td>\n",
       "      <td>TV Mysteries</td>\n",
       "    </tr>\n",
       "    <tr>\n",
       "      <th>1</th>\n",
       "      <td>s2</td>\n",
       "      <td>TV Show</td>\n",
       "      <td>Blood &amp; Water</td>\n",
       "      <td>Unknown director</td>\n",
       "      <td>Ama Qamata, Khosi Ngema, Gail Mabalane, Thaban...</td>\n",
       "      <td>South Africa</td>\n",
       "      <td>September 24, 2021</td>\n",
       "      <td>2021</td>\n",
       "      <td>TV-MA</td>\n",
       "      <td>2 Seasons</td>\n",
       "      <td>International TV Shows, TV Dramas, TV Mysteries</td>\n",
       "      <td>After crossing paths at a party, a Cape Town t...</td>\n",
       "      <td>Khosi Ngema</td>\n",
       "      <td>Unknown director</td>\n",
       "      <td>South Africa</td>\n",
       "      <td>International TV Shows</td>\n",
       "    </tr>\n",
       "  </tbody>\n",
       "</table>\n",
       "</div>"
      ],
      "text/plain": [
       "  show_id     type                 title          director  \\\n",
       "0      s1    Movie  Dick Johnson Is Dead   Kirsten Johnson   \n",
       "1      s2  TV Show         Blood & Water  Unknown director   \n",
       "1      s2  TV Show         Blood & Water  Unknown director   \n",
       "1      s2  TV Show         Blood & Water  Unknown director   \n",
       "1      s2  TV Show         Blood & Water  Unknown director   \n",
       "\n",
       "                                                cast        country  \\\n",
       "0                                       Unknown cast  United States   \n",
       "1  Ama Qamata, Khosi Ngema, Gail Mabalane, Thaban...   South Africa   \n",
       "1  Ama Qamata, Khosi Ngema, Gail Mabalane, Thaban...   South Africa   \n",
       "1  Ama Qamata, Khosi Ngema, Gail Mabalane, Thaban...   South Africa   \n",
       "1  Ama Qamata, Khosi Ngema, Gail Mabalane, Thaban...   South Africa   \n",
       "\n",
       "           date_added  release_year rating   duration  \\\n",
       "0  September 25, 2021          2020  PG-13     90 min   \n",
       "1  September 24, 2021          2021  TV-MA  2 Seasons   \n",
       "1  September 24, 2021          2021  TV-MA  2 Seasons   \n",
       "1  September 24, 2021          2021  TV-MA  2 Seasons   \n",
       "1  September 24, 2021          2021  TV-MA  2 Seasons   \n",
       "\n",
       "                                         listed_in  \\\n",
       "0                                    Documentaries   \n",
       "1  International TV Shows, TV Dramas, TV Mysteries   \n",
       "1  International TV Shows, TV Dramas, TV Mysteries   \n",
       "1  International TV Shows, TV Dramas, TV Mysteries   \n",
       "1  International TV Shows, TV Dramas, TV Mysteries   \n",
       "\n",
       "                                         description    cast_split  \\\n",
       "0  As her father nears the end of his life, filmm...  Unknown cast   \n",
       "1  After crossing paths at a party, a Cape Town t...    Ama Qamata   \n",
       "1  After crossing paths at a party, a Cape Town t...    Ama Qamata   \n",
       "1  After crossing paths at a party, a Cape Town t...    Ama Qamata   \n",
       "1  After crossing paths at a party, a Cape Town t...   Khosi Ngema   \n",
       "\n",
       "     director_split  country_split         listed_in_split  \n",
       "0   Kirsten Johnson  United States           Documentaries  \n",
       "1  Unknown director   South Africa  International TV Shows  \n",
       "1  Unknown director   South Africa               TV Dramas  \n",
       "1  Unknown director   South Africa            TV Mysteries  \n",
       "1  Unknown director   South Africa  International TV Shows  "
      ]
     },
     "execution_count": 26,
     "metadata": {},
     "output_type": "execute_result"
    }
   ],
   "source": [
    "df.head()"
   ]
  },
  {
   "cell_type": "code",
   "execution_count": 27,
   "id": "29a922e6",
   "metadata": {},
   "outputs": [
    {
     "data": {
      "text/plain": [
       "(201991, 16)"
      ]
     },
     "execution_count": 27,
     "metadata": {},
     "output_type": "execute_result"
    }
   ],
   "source": [
    "df.shape"
   ]
  },
  {
   "cell_type": "code",
   "execution_count": 28,
   "id": "793e72a6",
   "metadata": {},
   "outputs": [
    {
     "data": {
      "text/html": [
       "<div>\n",
       "<style scoped>\n",
       "    .dataframe tbody tr th:only-of-type {\n",
       "        vertical-align: middle;\n",
       "    }\n",
       "\n",
       "    .dataframe tbody tr th {\n",
       "        vertical-align: top;\n",
       "    }\n",
       "\n",
       "    .dataframe thead th {\n",
       "        text-align: right;\n",
       "    }\n",
       "</style>\n",
       "<table border=\"1\" class=\"dataframe\">\n",
       "  <thead>\n",
       "    <tr style=\"text-align: right;\">\n",
       "      <th></th>\n",
       "      <th>show_id</th>\n",
       "      <th>title</th>\n",
       "      <th>release_year</th>\n",
       "      <th>type</th>\n",
       "    </tr>\n",
       "  </thead>\n",
       "  <tbody>\n",
       "    <tr>\n",
       "      <th>0</th>\n",
       "      <td>s1</td>\n",
       "      <td>Dick Johnson Is Dead</td>\n",
       "      <td>2020</td>\n",
       "      <td>Movie</td>\n",
       "    </tr>\n",
       "    <tr>\n",
       "      <th>1</th>\n",
       "      <td>s2</td>\n",
       "      <td>Blood &amp; Water</td>\n",
       "      <td>2021</td>\n",
       "      <td>TV Show</td>\n",
       "    </tr>\n",
       "    <tr>\n",
       "      <th>1</th>\n",
       "      <td>s2</td>\n",
       "      <td>Blood &amp; Water</td>\n",
       "      <td>2021</td>\n",
       "      <td>TV Show</td>\n",
       "    </tr>\n",
       "    <tr>\n",
       "      <th>1</th>\n",
       "      <td>s2</td>\n",
       "      <td>Blood &amp; Water</td>\n",
       "      <td>2021</td>\n",
       "      <td>TV Show</td>\n",
       "    </tr>\n",
       "    <tr>\n",
       "      <th>1</th>\n",
       "      <td>s2</td>\n",
       "      <td>Blood &amp; Water</td>\n",
       "      <td>2021</td>\n",
       "      <td>TV Show</td>\n",
       "    </tr>\n",
       "  </tbody>\n",
       "</table>\n",
       "</div>"
      ],
      "text/plain": [
       "  show_id                 title  release_year     type\n",
       "0      s1  Dick Johnson Is Dead          2020    Movie\n",
       "1      s2         Blood & Water          2021  TV Show\n",
       "1      s2         Blood & Water          2021  TV Show\n",
       "1      s2         Blood & Water          2021  TV Show\n",
       "1      s2         Blood & Water          2021  TV Show"
      ]
     },
     "execution_count": 28,
     "metadata": {},
     "output_type": "execute_result"
    }
   ],
   "source": [
    "small_df=df[['show_id','title','release_year','type']]\n",
    "small_df.head(5)"
   ]
  },
  {
   "cell_type": "code",
   "execution_count": 29,
   "id": "c0ab06c0",
   "metadata": {},
   "outputs": [
    {
     "name": "stderr",
     "output_type": "stream",
     "text": [
      "C:\\Users\\DELL\\AppData\\Local\\Temp\\ipykernel_15176\\50876518.py:1: SettingWithCopyWarning: \n",
      "A value is trying to be set on a copy of a slice from a DataFrame\n",
      "\n",
      "See the caveats in the documentation: https://pandas.pydata.org/pandas-docs/stable/user_guide/indexing.html#returning-a-view-versus-a-copy\n",
      "  small_df.drop_duplicates(inplace = True)\n"
     ]
    }
   ],
   "source": [
    "small_df.drop_duplicates(inplace = True)"
   ]
  },
  {
   "cell_type": "code",
   "execution_count": 30,
   "id": "95983704",
   "metadata": {},
   "outputs": [
    {
     "data": {
      "text/plain": [
       "Index(['show_id', 'type', 'title', 'director', 'cast', 'country', 'date_added',\n",
       "       'release_year', 'rating', 'duration', 'listed_in', 'description',\n",
       "       'cast_split', 'director_split', 'country_split', 'listed_in_split'],\n",
       "      dtype='object')"
      ]
     },
     "execution_count": 30,
     "metadata": {},
     "output_type": "execute_result"
    }
   ],
   "source": [
    "df.columns"
   ]
  },
  {
   "cell_type": "code",
   "execution_count": 31,
   "id": "d93cbf84",
   "metadata": {},
   "outputs": [
    {
     "data": {
      "text/plain": [
       "Movie      145843\n",
       "TV Show     56148\n",
       "Name: type, dtype: int64"
      ]
     },
     "execution_count": 31,
     "metadata": {},
     "output_type": "execute_result"
    }
   ],
   "source": [
    "df[\"type\"].value_counts()"
   ]
  },
  {
   "cell_type": "code",
   "execution_count": 32,
   "id": "30e68337",
   "metadata": {},
   "outputs": [
    {
     "data": {
      "text/plain": [
       "country\n",
       "United States                                                2058\n",
       "India                                                         893\n",
       "Unknown country                                               440\n",
       "United Kingdom                                                206\n",
       "Canada                                                        122\n",
       "                                                             ... \n",
       "Canada, United States, United Kingdom, France, Luxembourg       0\n",
       "United Kingdom, Australia                                       0\n",
       "Spain, Germany, Denmark, United States                          0\n",
       "Chile, Italy                                                    0\n",
       "Philippines, Singapore, Indonesia                               0\n",
       "Name: title, Length: 749, dtype: int64"
      ]
     },
     "execution_count": 32,
     "metadata": {},
     "output_type": "execute_result"
    }
   ],
   "source": [
    "movie_count_by_country = df[df[\"type\"] == \"Movie\"].groupby(\"country\")[\"title\"].nunique().sort_values(ascending = False)\n",
    "movie_count_by_country"
   ]
  },
  {
   "cell_type": "code",
   "execution_count": 33,
   "id": "ee998a89",
   "metadata": {},
   "outputs": [
    {
     "data": {
      "text/plain": [
       "country\n",
       "United States      760\n",
       "Unknown country    391\n",
       "United Kingdom     213\n",
       "Japan              169\n",
       "South Korea        158\n",
       "India               79\n",
       "Taiwan              68\n",
       "Canada              59\n",
       "France              49\n",
       "Spain               48\n",
       "Name: title, dtype: int64"
      ]
     },
     "execution_count": 33,
     "metadata": {},
     "output_type": "execute_result"
    }
   ],
   "source": [
    "TV_shows_count_country = df[df[\"type\"] == \"TV Show\"].groupby(\"country\")[\"title\"].nunique().sort_values(ascending = False)\n",
    "TV_shows_count_country.head(10)"
   ]
  },
  {
   "cell_type": "code",
   "execution_count": 34,
   "id": "0d412302",
   "metadata": {},
   "outputs": [
    {
     "data": {
      "text/plain": [
       "show_id              object\n",
       "type               category\n",
       "title                object\n",
       "director             object\n",
       "cast                 object\n",
       "country            category\n",
       "date_added           object\n",
       "release_year          int64\n",
       "rating             category\n",
       "duration             object\n",
       "listed_in            object\n",
       "description          object\n",
       "cast_split           object\n",
       "director_split       object\n",
       "country_split        object\n",
       "listed_in_split      object\n",
       "dtype: object"
      ]
     },
     "execution_count": 34,
     "metadata": {},
     "output_type": "execute_result"
    }
   ],
   "source": [
    "df.dtypes"
   ]
  },
  {
   "cell_type": "code",
   "execution_count": 35,
   "id": "2ff37240",
   "metadata": {},
   "outputs": [],
   "source": [
    "df['date_added'] = df['date_added'].str.replace(',', ', ', regex=False)  # Ensure space after comma\n",
    "df['date_added'] = df['date_added'].str.replace('  ', ' ', regex=False)  # Remove double spaces\n",
    "df['date_added'] = pd.to_datetime(df['date_added'], format='%B %d, %Y', errors='coerce')\n",
    "df['week_added'] = df['date_added'].dt.strftime('%Y-%U')\n"
   ]
  },
  {
   "cell_type": "code",
   "execution_count": 36,
   "id": "6580c3aa",
   "metadata": {},
   "outputs": [
    {
     "data": {
      "text/html": [
       "<div>\n",
       "<style scoped>\n",
       "    .dataframe tbody tr th:only-of-type {\n",
       "        vertical-align: middle;\n",
       "    }\n",
       "\n",
       "    .dataframe tbody tr th {\n",
       "        vertical-align: top;\n",
       "    }\n",
       "\n",
       "    .dataframe thead th {\n",
       "        text-align: right;\n",
       "    }\n",
       "</style>\n",
       "<table border=\"1\" class=\"dataframe\">\n",
       "  <thead>\n",
       "    <tr style=\"text-align: right;\">\n",
       "      <th></th>\n",
       "      <th>show_id</th>\n",
       "      <th>type</th>\n",
       "      <th>title</th>\n",
       "      <th>director</th>\n",
       "      <th>cast</th>\n",
       "      <th>country</th>\n",
       "      <th>date_added</th>\n",
       "      <th>release_year</th>\n",
       "      <th>rating</th>\n",
       "      <th>duration</th>\n",
       "      <th>listed_in</th>\n",
       "      <th>description</th>\n",
       "      <th>cast_split</th>\n",
       "      <th>director_split</th>\n",
       "      <th>country_split</th>\n",
       "      <th>listed_in_split</th>\n",
       "      <th>week_added</th>\n",
       "    </tr>\n",
       "  </thead>\n",
       "  <tbody>\n",
       "    <tr>\n",
       "      <th>0</th>\n",
       "      <td>s1</td>\n",
       "      <td>Movie</td>\n",
       "      <td>Dick Johnson Is Dead</td>\n",
       "      <td>Kirsten Johnson</td>\n",
       "      <td>Unknown cast</td>\n",
       "      <td>United States</td>\n",
       "      <td>2021-09-25</td>\n",
       "      <td>2020</td>\n",
       "      <td>PG-13</td>\n",
       "      <td>90 min</td>\n",
       "      <td>Documentaries</td>\n",
       "      <td>As her father nears the end of his life, filmm...</td>\n",
       "      <td>Unknown cast</td>\n",
       "      <td>Kirsten Johnson</td>\n",
       "      <td>United States</td>\n",
       "      <td>Documentaries</td>\n",
       "      <td>2021-38</td>\n",
       "    </tr>\n",
       "    <tr>\n",
       "      <th>1</th>\n",
       "      <td>s2</td>\n",
       "      <td>TV Show</td>\n",
       "      <td>Blood &amp; Water</td>\n",
       "      <td>Unknown director</td>\n",
       "      <td>Ama Qamata, Khosi Ngema, Gail Mabalane, Thaban...</td>\n",
       "      <td>South Africa</td>\n",
       "      <td>2021-09-24</td>\n",
       "      <td>2021</td>\n",
       "      <td>TV-MA</td>\n",
       "      <td>2 Seasons</td>\n",
       "      <td>International TV Shows, TV Dramas, TV Mysteries</td>\n",
       "      <td>After crossing paths at a party, a Cape Town t...</td>\n",
       "      <td>Ama Qamata</td>\n",
       "      <td>Unknown director</td>\n",
       "      <td>South Africa</td>\n",
       "      <td>International TV Shows</td>\n",
       "      <td>2021-38</td>\n",
       "    </tr>\n",
       "    <tr>\n",
       "      <th>1</th>\n",
       "      <td>s2</td>\n",
       "      <td>TV Show</td>\n",
       "      <td>Blood &amp; Water</td>\n",
       "      <td>Unknown director</td>\n",
       "      <td>Ama Qamata, Khosi Ngema, Gail Mabalane, Thaban...</td>\n",
       "      <td>South Africa</td>\n",
       "      <td>2021-09-24</td>\n",
       "      <td>2021</td>\n",
       "      <td>TV-MA</td>\n",
       "      <td>2 Seasons</td>\n",
       "      <td>International TV Shows, TV Dramas, TV Mysteries</td>\n",
       "      <td>After crossing paths at a party, a Cape Town t...</td>\n",
       "      <td>Ama Qamata</td>\n",
       "      <td>Unknown director</td>\n",
       "      <td>South Africa</td>\n",
       "      <td>TV Dramas</td>\n",
       "      <td>2021-38</td>\n",
       "    </tr>\n",
       "    <tr>\n",
       "      <th>1</th>\n",
       "      <td>s2</td>\n",
       "      <td>TV Show</td>\n",
       "      <td>Blood &amp; Water</td>\n",
       "      <td>Unknown director</td>\n",
       "      <td>Ama Qamata, Khosi Ngema, Gail Mabalane, Thaban...</td>\n",
       "      <td>South Africa</td>\n",
       "      <td>2021-09-24</td>\n",
       "      <td>2021</td>\n",
       "      <td>TV-MA</td>\n",
       "      <td>2 Seasons</td>\n",
       "      <td>International TV Shows, TV Dramas, TV Mysteries</td>\n",
       "      <td>After crossing paths at a party, a Cape Town t...</td>\n",
       "      <td>Ama Qamata</td>\n",
       "      <td>Unknown director</td>\n",
       "      <td>South Africa</td>\n",
       "      <td>TV Mysteries</td>\n",
       "      <td>2021-38</td>\n",
       "    </tr>\n",
       "    <tr>\n",
       "      <th>1</th>\n",
       "      <td>s2</td>\n",
       "      <td>TV Show</td>\n",
       "      <td>Blood &amp; Water</td>\n",
       "      <td>Unknown director</td>\n",
       "      <td>Ama Qamata, Khosi Ngema, Gail Mabalane, Thaban...</td>\n",
       "      <td>South Africa</td>\n",
       "      <td>2021-09-24</td>\n",
       "      <td>2021</td>\n",
       "      <td>TV-MA</td>\n",
       "      <td>2 Seasons</td>\n",
       "      <td>International TV Shows, TV Dramas, TV Mysteries</td>\n",
       "      <td>After crossing paths at a party, a Cape Town t...</td>\n",
       "      <td>Khosi Ngema</td>\n",
       "      <td>Unknown director</td>\n",
       "      <td>South Africa</td>\n",
       "      <td>International TV Shows</td>\n",
       "      <td>2021-38</td>\n",
       "    </tr>\n",
       "    <tr>\n",
       "      <th>...</th>\n",
       "      <td>...</td>\n",
       "      <td>...</td>\n",
       "      <td>...</td>\n",
       "      <td>...</td>\n",
       "      <td>...</td>\n",
       "      <td>...</td>\n",
       "      <td>...</td>\n",
       "      <td>...</td>\n",
       "      <td>...</td>\n",
       "      <td>...</td>\n",
       "      <td>...</td>\n",
       "      <td>...</td>\n",
       "      <td>...</td>\n",
       "      <td>...</td>\n",
       "      <td>...</td>\n",
       "      <td>...</td>\n",
       "      <td>...</td>\n",
       "    </tr>\n",
       "    <tr>\n",
       "      <th>8806</th>\n",
       "      <td>s8807</td>\n",
       "      <td>Movie</td>\n",
       "      <td>Zubaan</td>\n",
       "      <td>Mozez Singh</td>\n",
       "      <td>Vicky Kaushal, Sarah-Jane Dias, Raaghav Chanan...</td>\n",
       "      <td>India</td>\n",
       "      <td>2019-03-02</td>\n",
       "      <td>2015</td>\n",
       "      <td>TV-14</td>\n",
       "      <td>111 min</td>\n",
       "      <td>Dramas, International Movies, Music &amp; Musicals</td>\n",
       "      <td>A scrappy but poor boy worms his way into a ty...</td>\n",
       "      <td>Anita Shabdish</td>\n",
       "      <td>Mozez Singh</td>\n",
       "      <td>India</td>\n",
       "      <td>International Movies</td>\n",
       "      <td>2019-08</td>\n",
       "    </tr>\n",
       "    <tr>\n",
       "      <th>8806</th>\n",
       "      <td>s8807</td>\n",
       "      <td>Movie</td>\n",
       "      <td>Zubaan</td>\n",
       "      <td>Mozez Singh</td>\n",
       "      <td>Vicky Kaushal, Sarah-Jane Dias, Raaghav Chanan...</td>\n",
       "      <td>India</td>\n",
       "      <td>2019-03-02</td>\n",
       "      <td>2015</td>\n",
       "      <td>TV-14</td>\n",
       "      <td>111 min</td>\n",
       "      <td>Dramas, International Movies, Music &amp; Musicals</td>\n",
       "      <td>A scrappy but poor boy worms his way into a ty...</td>\n",
       "      <td>Anita Shabdish</td>\n",
       "      <td>Mozez Singh</td>\n",
       "      <td>India</td>\n",
       "      <td>Music &amp; Musicals</td>\n",
       "      <td>2019-08</td>\n",
       "    </tr>\n",
       "    <tr>\n",
       "      <th>8806</th>\n",
       "      <td>s8807</td>\n",
       "      <td>Movie</td>\n",
       "      <td>Zubaan</td>\n",
       "      <td>Mozez Singh</td>\n",
       "      <td>Vicky Kaushal, Sarah-Jane Dias, Raaghav Chanan...</td>\n",
       "      <td>India</td>\n",
       "      <td>2019-03-02</td>\n",
       "      <td>2015</td>\n",
       "      <td>TV-14</td>\n",
       "      <td>111 min</td>\n",
       "      <td>Dramas, International Movies, Music &amp; Musicals</td>\n",
       "      <td>A scrappy but poor boy worms his way into a ty...</td>\n",
       "      <td>Chittaranjan Tripathy</td>\n",
       "      <td>Mozez Singh</td>\n",
       "      <td>India</td>\n",
       "      <td>Dramas</td>\n",
       "      <td>2019-08</td>\n",
       "    </tr>\n",
       "    <tr>\n",
       "      <th>8806</th>\n",
       "      <td>s8807</td>\n",
       "      <td>Movie</td>\n",
       "      <td>Zubaan</td>\n",
       "      <td>Mozez Singh</td>\n",
       "      <td>Vicky Kaushal, Sarah-Jane Dias, Raaghav Chanan...</td>\n",
       "      <td>India</td>\n",
       "      <td>2019-03-02</td>\n",
       "      <td>2015</td>\n",
       "      <td>TV-14</td>\n",
       "      <td>111 min</td>\n",
       "      <td>Dramas, International Movies, Music &amp; Musicals</td>\n",
       "      <td>A scrappy but poor boy worms his way into a ty...</td>\n",
       "      <td>Chittaranjan Tripathy</td>\n",
       "      <td>Mozez Singh</td>\n",
       "      <td>India</td>\n",
       "      <td>International Movies</td>\n",
       "      <td>2019-08</td>\n",
       "    </tr>\n",
       "    <tr>\n",
       "      <th>8806</th>\n",
       "      <td>s8807</td>\n",
       "      <td>Movie</td>\n",
       "      <td>Zubaan</td>\n",
       "      <td>Mozez Singh</td>\n",
       "      <td>Vicky Kaushal, Sarah-Jane Dias, Raaghav Chanan...</td>\n",
       "      <td>India</td>\n",
       "      <td>2019-03-02</td>\n",
       "      <td>2015</td>\n",
       "      <td>TV-14</td>\n",
       "      <td>111 min</td>\n",
       "      <td>Dramas, International Movies, Music &amp; Musicals</td>\n",
       "      <td>A scrappy but poor boy worms his way into a ty...</td>\n",
       "      <td>Chittaranjan Tripathy</td>\n",
       "      <td>Mozez Singh</td>\n",
       "      <td>India</td>\n",
       "      <td>Music &amp; Musicals</td>\n",
       "      <td>2019-08</td>\n",
       "    </tr>\n",
       "  </tbody>\n",
       "</table>\n",
       "<p>201991 rows × 17 columns</p>\n",
       "</div>"
      ],
      "text/plain": [
       "     show_id     type                 title          director  \\\n",
       "0         s1    Movie  Dick Johnson Is Dead   Kirsten Johnson   \n",
       "1         s2  TV Show         Blood & Water  Unknown director   \n",
       "1         s2  TV Show         Blood & Water  Unknown director   \n",
       "1         s2  TV Show         Blood & Water  Unknown director   \n",
       "1         s2  TV Show         Blood & Water  Unknown director   \n",
       "...      ...      ...                   ...               ...   \n",
       "8806   s8807    Movie                Zubaan       Mozez Singh   \n",
       "8806   s8807    Movie                Zubaan       Mozez Singh   \n",
       "8806   s8807    Movie                Zubaan       Mozez Singh   \n",
       "8806   s8807    Movie                Zubaan       Mozez Singh   \n",
       "8806   s8807    Movie                Zubaan       Mozez Singh   \n",
       "\n",
       "                                                   cast        country  \\\n",
       "0                                          Unknown cast  United States   \n",
       "1     Ama Qamata, Khosi Ngema, Gail Mabalane, Thaban...   South Africa   \n",
       "1     Ama Qamata, Khosi Ngema, Gail Mabalane, Thaban...   South Africa   \n",
       "1     Ama Qamata, Khosi Ngema, Gail Mabalane, Thaban...   South Africa   \n",
       "1     Ama Qamata, Khosi Ngema, Gail Mabalane, Thaban...   South Africa   \n",
       "...                                                 ...            ...   \n",
       "8806  Vicky Kaushal, Sarah-Jane Dias, Raaghav Chanan...          India   \n",
       "8806  Vicky Kaushal, Sarah-Jane Dias, Raaghav Chanan...          India   \n",
       "8806  Vicky Kaushal, Sarah-Jane Dias, Raaghav Chanan...          India   \n",
       "8806  Vicky Kaushal, Sarah-Jane Dias, Raaghav Chanan...          India   \n",
       "8806  Vicky Kaushal, Sarah-Jane Dias, Raaghav Chanan...          India   \n",
       "\n",
       "     date_added  release_year rating   duration  \\\n",
       "0    2021-09-25          2020  PG-13     90 min   \n",
       "1    2021-09-24          2021  TV-MA  2 Seasons   \n",
       "1    2021-09-24          2021  TV-MA  2 Seasons   \n",
       "1    2021-09-24          2021  TV-MA  2 Seasons   \n",
       "1    2021-09-24          2021  TV-MA  2 Seasons   \n",
       "...         ...           ...    ...        ...   \n",
       "8806 2019-03-02          2015  TV-14    111 min   \n",
       "8806 2019-03-02          2015  TV-14    111 min   \n",
       "8806 2019-03-02          2015  TV-14    111 min   \n",
       "8806 2019-03-02          2015  TV-14    111 min   \n",
       "8806 2019-03-02          2015  TV-14    111 min   \n",
       "\n",
       "                                            listed_in  \\\n",
       "0                                       Documentaries   \n",
       "1     International TV Shows, TV Dramas, TV Mysteries   \n",
       "1     International TV Shows, TV Dramas, TV Mysteries   \n",
       "1     International TV Shows, TV Dramas, TV Mysteries   \n",
       "1     International TV Shows, TV Dramas, TV Mysteries   \n",
       "...                                               ...   \n",
       "8806   Dramas, International Movies, Music & Musicals   \n",
       "8806   Dramas, International Movies, Music & Musicals   \n",
       "8806   Dramas, International Movies, Music & Musicals   \n",
       "8806   Dramas, International Movies, Music & Musicals   \n",
       "8806   Dramas, International Movies, Music & Musicals   \n",
       "\n",
       "                                            description  \\\n",
       "0     As her father nears the end of his life, filmm...   \n",
       "1     After crossing paths at a party, a Cape Town t...   \n",
       "1     After crossing paths at a party, a Cape Town t...   \n",
       "1     After crossing paths at a party, a Cape Town t...   \n",
       "1     After crossing paths at a party, a Cape Town t...   \n",
       "...                                                 ...   \n",
       "8806  A scrappy but poor boy worms his way into a ty...   \n",
       "8806  A scrappy but poor boy worms his way into a ty...   \n",
       "8806  A scrappy but poor boy worms his way into a ty...   \n",
       "8806  A scrappy but poor boy worms his way into a ty...   \n",
       "8806  A scrappy but poor boy worms his way into a ty...   \n",
       "\n",
       "                 cast_split    director_split  country_split  \\\n",
       "0              Unknown cast   Kirsten Johnson  United States   \n",
       "1                Ama Qamata  Unknown director   South Africa   \n",
       "1                Ama Qamata  Unknown director   South Africa   \n",
       "1                Ama Qamata  Unknown director   South Africa   \n",
       "1               Khosi Ngema  Unknown director   South Africa   \n",
       "...                     ...               ...            ...   \n",
       "8806         Anita Shabdish       Mozez Singh          India   \n",
       "8806         Anita Shabdish       Mozez Singh          India   \n",
       "8806  Chittaranjan Tripathy       Mozez Singh          India   \n",
       "8806  Chittaranjan Tripathy       Mozez Singh          India   \n",
       "8806  Chittaranjan Tripathy       Mozez Singh          India   \n",
       "\n",
       "             listed_in_split week_added  \n",
       "0              Documentaries    2021-38  \n",
       "1     International TV Shows    2021-38  \n",
       "1                  TV Dramas    2021-38  \n",
       "1               TV Mysteries    2021-38  \n",
       "1     International TV Shows    2021-38  \n",
       "...                      ...        ...  \n",
       "8806    International Movies    2019-08  \n",
       "8806        Music & Musicals    2019-08  \n",
       "8806                  Dramas    2019-08  \n",
       "8806    International Movies    2019-08  \n",
       "8806        Music & Musicals    2019-08  \n",
       "\n",
       "[201991 rows x 17 columns]"
      ]
     },
     "execution_count": 36,
     "metadata": {},
     "output_type": "execute_result"
    }
   ],
   "source": [
    "df"
   ]
  },
  {
   "cell_type": "code",
   "execution_count": null,
   "id": "60a5c007",
   "metadata": {},
   "outputs": [],
   "source": []
  },
  {
   "cell_type": "code",
   "execution_count": null,
   "id": "037f189a",
   "metadata": {},
   "outputs": [],
   "source": []
  },
  {
   "cell_type": "code",
   "execution_count": null,
   "id": "ba328f9b",
   "metadata": {},
   "outputs": [],
   "source": []
  },
  {
   "cell_type": "code",
   "execution_count": null,
   "id": "94c00b38",
   "metadata": {},
   "outputs": [],
   "source": []
  }
 ],
 "metadata": {
  "kernelspec": {
   "display_name": "Python 3 (ipykernel)",
   "language": "python",
   "name": "python3"
  },
  "language_info": {
   "codemirror_mode": {
    "name": "ipython",
    "version": 3
   },
   "file_extension": ".py",
   "mimetype": "text/x-python",
   "name": "python",
   "nbconvert_exporter": "python",
   "pygments_lexer": "ipython3",
   "version": "3.10.9"
  }
 },
 "nbformat": 4,
 "nbformat_minor": 5
}
